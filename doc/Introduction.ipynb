{
 "metadata": {
  "name": ""
 },
 "nbformat": 3,
 "nbformat_minor": 0,
 "worksheets": [
  {
   "cells": [
    {
     "cell_type": "code",
     "collapsed": false,
     "input": [
      "from pylstm import *"
     ],
     "language": "python",
     "metadata": {},
     "outputs": [],
     "prompt_number": 1
    },
    {
     "cell_type": "markdown",
     "metadata": {},
     "source": [
      "# Quickstart"
     ]
    },
    {
     "cell_type": "code",
     "collapsed": false,
     "input": [
      "# Build and initialize a simple network\n",
      "net = build_net(InputLayer(3) >> ForwardLayer(2, act_func='sigmoid'))\n",
      "net.error_func = CrossEntropyError\n",
      "net.initialize(default=Gaussian(std=0.1))\n",
      "\n",
      "# Randomly generate a dataset\n",
      "X = np.random.randn(1, 100, 3) # nr_timesteps, batch_size, input_size\n",
      "T = np.random.random_sample((1, 100, 2))\n",
      "\n",
      "# Set up an SGD trainer that stops after 10 epochs\n",
      "tr = Trainer(net, SgdStep(learning_rate=0.01))\n",
      "tr.stopping_criteria.append(MaxEpochsSeen(10))\n",
      "\n",
      "# Train with weight updates after each sample\n",
      "tr.train(Online(X, T))\n",
      "\n",
      "plot(tr.training_errors)"
     ],
     "language": "python",
     "metadata": {},
     "outputs": [
      {
       "output_type": "stream",
       "stream": "stdout",
       "text": [
        "\n",
        "\n",
        " - - - - - - - - - - - - - - -   Epoch  1  - - - - - - - - - - - - - - -\n",
        "Training ...\n",
        "\r",
        "Progress: [--------------------------------------------------] 0.0% "
       ]
      },
      {
       "output_type": "stream",
       "stream": "stdout",
       "text": [
        "\r",
        "Progress: [#-------------------------------------------------] 1.0% "
       ]
      },
      {
       "output_type": "stream",
       "stream": "stdout",
       "text": [
        "\r",
        "Progress: [#-------------------------------------------------] 2.0% "
       ]
      },
      {
       "output_type": "stream",
       "stream": "stdout",
       "text": [
        "\r",
        "Progress: [##------------------------------------------------] 3.0% "
       ]
      },
      {
       "output_type": "stream",
       "stream": "stdout",
       "text": [
        "\r",
        "Progress: [##------------------------------------------------] 4.0% "
       ]
      },
      {
       "output_type": "stream",
       "stream": "stdout",
       "text": [
        "\r",
        "Progress: [###-----------------------------------------------] 5.0% "
       ]
      },
      {
       "output_type": "stream",
       "stream": "stdout",
       "text": [
        "\r",
        "Progress: [###-----------------------------------------------] 6.0% "
       ]
      },
      {
       "output_type": "stream",
       "stream": "stdout",
       "text": [
        "\r",
        "Progress: [####----------------------------------------------] 7.0% "
       ]
      },
      {
       "output_type": "stream",
       "stream": "stdout",
       "text": [
        "\r",
        "Progress: [####----------------------------------------------] 8.0% "
       ]
      },
      {
       "output_type": "stream",
       "stream": "stdout",
       "text": [
        "\r",
        "Progress: [#####---------------------------------------------] 9.0% "
       ]
      },
      {
       "output_type": "stream",
       "stream": "stdout",
       "text": [
        "\r",
        "Progress: [#####---------------------------------------------] 10.0% "
       ]
      },
      {
       "output_type": "stream",
       "stream": "stdout",
       "text": [
        "\r",
        "Progress: [######--------------------------------------------] 11.0% "
       ]
      },
      {
       "output_type": "stream",
       "stream": "stdout",
       "text": [
        "\r",
        "Progress: [######--------------------------------------------] 12.0% "
       ]
      },
      {
       "output_type": "stream",
       "stream": "stdout",
       "text": [
        "\r",
        "Progress: [#######-------------------------------------------] 13.0% "
       ]
      },
      {
       "output_type": "stream",
       "stream": "stdout",
       "text": [
        "\r",
        "Progress: [#######-------------------------------------------] 14.0% "
       ]
      },
      {
       "output_type": "stream",
       "stream": "stdout",
       "text": [
        "\r",
        "Progress: [########------------------------------------------] 15.0% "
       ]
      },
      {
       "output_type": "stream",
       "stream": "stdout",
       "text": [
        "\r",
        "Progress: [########------------------------------------------] 16.0% "
       ]
      },
      {
       "output_type": "stream",
       "stream": "stdout",
       "text": [
        "\r",
        "Progress: [#########-----------------------------------------] 17.0% "
       ]
      },
      {
       "output_type": "stream",
       "stream": "stdout",
       "text": [
        "\r",
        "Progress: [#########-----------------------------------------] 18.0% "
       ]
      },
      {
       "output_type": "stream",
       "stream": "stdout",
       "text": [
        "\r",
        "Progress: [##########----------------------------------------] 19.0% "
       ]
      },
      {
       "output_type": "stream",
       "stream": "stdout",
       "text": [
        "\r",
        "Progress: [##########----------------------------------------] 20.0% "
       ]
      },
      {
       "output_type": "stream",
       "stream": "stdout",
       "text": [
        "\r",
        "Progress: [###########---------------------------------------] 21.0% "
       ]
      },
      {
       "output_type": "stream",
       "stream": "stdout",
       "text": [
        "\r",
        "Progress: [###########---------------------------------------] 22.0% "
       ]
      },
      {
       "output_type": "stream",
       "stream": "stdout",
       "text": [
        "\r",
        "Progress: [############--------------------------------------] 23.0% "
       ]
      },
      {
       "output_type": "stream",
       "stream": "stdout",
       "text": [
        "\r",
        "Progress: [############--------------------------------------] 24.0% "
       ]
      },
      {
       "output_type": "stream",
       "stream": "stdout",
       "text": [
        "\r",
        "Progress: [#############-------------------------------------] 25.0% "
       ]
      },
      {
       "output_type": "stream",
       "stream": "stdout",
       "text": [
        "\r",
        "Progress: [#############-------------------------------------] 26.0% "
       ]
      },
      {
       "output_type": "stream",
       "stream": "stdout",
       "text": [
        "\r",
        "Progress: [##############------------------------------------] 27.0% "
       ]
      },
      {
       "output_type": "stream",
       "stream": "stdout",
       "text": [
        "\r",
        "Progress: [##############------------------------------------] 28.0% "
       ]
      },
      {
       "output_type": "stream",
       "stream": "stdout",
       "text": [
        "\r",
        "Progress: [##############------------------------------------] 29.0% "
       ]
      },
      {
       "output_type": "stream",
       "stream": "stdout",
       "text": [
        "\r",
        "Progress: [###############-----------------------------------] 30.0% "
       ]
      },
      {
       "output_type": "stream",
       "stream": "stdout",
       "text": [
        "\r",
        "Progress: [################----------------------------------] 31.0% "
       ]
      },
      {
       "output_type": "stream",
       "stream": "stdout",
       "text": [
        "\r",
        "Progress: [################----------------------------------] 32.0% "
       ]
      },
      {
       "output_type": "stream",
       "stream": "stdout",
       "text": [
        "\r",
        "Progress: [#################---------------------------------] 33.0% "
       ]
      },
      {
       "output_type": "stream",
       "stream": "stdout",
       "text": [
        "\r",
        "Progress: [#################---------------------------------] 34.0% "
       ]
      },
      {
       "output_type": "stream",
       "stream": "stdout",
       "text": [
        "\r",
        "Progress: [##################--------------------------------] 35.0% "
       ]
      },
      {
       "output_type": "stream",
       "stream": "stdout",
       "text": [
        "\r",
        "Progress: [##################--------------------------------] 36.0% "
       ]
      },
      {
       "output_type": "stream",
       "stream": "stdout",
       "text": [
        "\r",
        "Progress: [###################-------------------------------] 37.0% "
       ]
      },
      {
       "output_type": "stream",
       "stream": "stdout",
       "text": [
        "\r",
        "Progress: [###################-------------------------------] 38.0% "
       ]
      },
      {
       "output_type": "stream",
       "stream": "stdout",
       "text": [
        "\r",
        "Progress: [####################------------------------------] 39.0% "
       ]
      },
      {
       "output_type": "stream",
       "stream": "stdout",
       "text": [
        "\r",
        "Progress: [####################------------------------------] 40.0% "
       ]
      },
      {
       "output_type": "stream",
       "stream": "stdout",
       "text": [
        "\r",
        "Progress: [#####################-----------------------------] 41.0% "
       ]
      },
      {
       "output_type": "stream",
       "stream": "stdout",
       "text": [
        "\r",
        "Progress: [#####################-----------------------------] 42.0% "
       ]
      },
      {
       "output_type": "stream",
       "stream": "stdout",
       "text": [
        "\r",
        "Progress: [######################----------------------------] 43.0% "
       ]
      },
      {
       "output_type": "stream",
       "stream": "stdout",
       "text": [
        "\r",
        "Progress: [######################----------------------------] 44.0% "
       ]
      },
      {
       "output_type": "stream",
       "stream": "stdout",
       "text": [
        "\r",
        "Progress: [#######################---------------------------] 45.0% "
       ]
      },
      {
       "output_type": "stream",
       "stream": "stdout",
       "text": [
        "\r",
        "Progress: [#######################---------------------------] 46.0% "
       ]
      },
      {
       "output_type": "stream",
       "stream": "stdout",
       "text": [
        "\r",
        "Progress: [########################--------------------------] 47.0% "
       ]
      },
      {
       "output_type": "stream",
       "stream": "stdout",
       "text": [
        "\r",
        "Progress: [########################--------------------------] 48.0% "
       ]
      },
      {
       "output_type": "stream",
       "stream": "stdout",
       "text": [
        "\r",
        "Progress: [#########################-------------------------] 49.0% "
       ]
      },
      {
       "output_type": "stream",
       "stream": "stdout",
       "text": [
        "\r",
        "Progress: [#########################-------------------------] 50.0% "
       ]
      },
      {
       "output_type": "stream",
       "stream": "stdout",
       "text": [
        "\r",
        "Progress: [##########################------------------------] 51.0% "
       ]
      },
      {
       "output_type": "stream",
       "stream": "stdout",
       "text": [
        "\r",
        "Progress: [##########################------------------------] 52.0% "
       ]
      },
      {
       "output_type": "stream",
       "stream": "stdout",
       "text": [
        "\r",
        "Progress: [###########################-----------------------] 53.0% "
       ]
      },
      {
       "output_type": "stream",
       "stream": "stdout",
       "text": [
        "\r",
        "Progress: [###########################-----------------------] 54.0% "
       ]
      },
      {
       "output_type": "stream",
       "stream": "stdout",
       "text": [
        "\r",
        "Progress: [############################----------------------] 55.0% "
       ]
      },
      {
       "output_type": "stream",
       "stream": "stdout",
       "text": [
        "\r",
        "Progress: [############################----------------------] 56.0% "
       ]
      },
      {
       "output_type": "stream",
       "stream": "stdout",
       "text": [
        "\r",
        "Progress: [############################----------------------] 57.0% "
       ]
      },
      {
       "output_type": "stream",
       "stream": "stdout",
       "text": [
        "\r",
        "Progress: [#############################---------------------] 58.0% "
       ]
      },
      {
       "output_type": "stream",
       "stream": "stdout",
       "text": [
        "\r",
        "Progress: [##############################--------------------] 59.0% "
       ]
      },
      {
       "output_type": "stream",
       "stream": "stdout",
       "text": [
        "\r",
        "Progress: [##############################--------------------] 60.0% "
       ]
      },
      {
       "output_type": "stream",
       "stream": "stdout",
       "text": [
        "\r",
        "Progress: [###############################-------------------] 61.0% "
       ]
      },
      {
       "output_type": "stream",
       "stream": "stdout",
       "text": [
        "\r",
        "Progress: [###############################-------------------] 62.0% "
       ]
      },
      {
       "output_type": "stream",
       "stream": "stdout",
       "text": [
        "\r",
        "Progress: [################################------------------] 63.0% "
       ]
      },
      {
       "output_type": "stream",
       "stream": "stdout",
       "text": [
        "\r",
        "Progress: [################################------------------] 64.0% "
       ]
      },
      {
       "output_type": "stream",
       "stream": "stdout",
       "text": [
        "\r",
        "Progress: [#################################-----------------] 65.0% "
       ]
      },
      {
       "output_type": "stream",
       "stream": "stdout",
       "text": [
        "\r",
        "Progress: [#################################-----------------] 66.0% "
       ]
      },
      {
       "output_type": "stream",
       "stream": "stdout",
       "text": [
        "\r",
        "Progress: [##################################----------------] 67.0% "
       ]
      },
      {
       "output_type": "stream",
       "stream": "stdout",
       "text": [
        "\r",
        "Progress: [##################################----------------] 68.0% "
       ]
      },
      {
       "output_type": "stream",
       "stream": "stdout",
       "text": [
        "\r",
        "Progress: [###################################---------------] 69.0% "
       ]
      },
      {
       "output_type": "stream",
       "stream": "stdout",
       "text": [
        "\r",
        "Progress: [###################################---------------] 70.0% "
       ]
      },
      {
       "output_type": "stream",
       "stream": "stdout",
       "text": [
        "\r",
        "Progress: [####################################--------------] 71.0% "
       ]
      },
      {
       "output_type": "stream",
       "stream": "stdout",
       "text": [
        "\r",
        "Progress: [####################################--------------] 72.0% "
       ]
      },
      {
       "output_type": "stream",
       "stream": "stdout",
       "text": [
        "\r",
        "Progress: [#####################################-------------] 73.0% "
       ]
      },
      {
       "output_type": "stream",
       "stream": "stdout",
       "text": [
        "\r",
        "Progress: [#####################################-------------] 74.0% "
       ]
      },
      {
       "output_type": "stream",
       "stream": "stdout",
       "text": [
        "\r",
        "Progress: [######################################------------] 75.0% "
       ]
      },
      {
       "output_type": "stream",
       "stream": "stdout",
       "text": [
        "\r",
        "Progress: [######################################------------] 76.0% "
       ]
      },
      {
       "output_type": "stream",
       "stream": "stdout",
       "text": [
        "\r",
        "Progress: [#######################################-----------] 77.0% "
       ]
      },
      {
       "output_type": "stream",
       "stream": "stdout",
       "text": [
        "\r",
        "Progress: [#######################################-----------] 78.0% "
       ]
      },
      {
       "output_type": "stream",
       "stream": "stdout",
       "text": [
        "\r",
        "Progress: [########################################----------] 79.0% "
       ]
      },
      {
       "output_type": "stream",
       "stream": "stdout",
       "text": [
        "\r",
        "Progress: [########################################----------] 80.0% "
       ]
      },
      {
       "output_type": "stream",
       "stream": "stdout",
       "text": [
        "\r",
        "Progress: [#########################################---------] 81.0% "
       ]
      },
      {
       "output_type": "stream",
       "stream": "stdout",
       "text": [
        "\r",
        "Progress: [#########################################---------] 82.0% "
       ]
      },
      {
       "output_type": "stream",
       "stream": "stdout",
       "text": [
        "\r",
        "Progress: [##########################################--------] 83.0% "
       ]
      },
      {
       "output_type": "stream",
       "stream": "stdout",
       "text": [
        "\r",
        "Progress: [##########################################--------] 84.0% "
       ]
      },
      {
       "output_type": "stream",
       "stream": "stdout",
       "text": [
        "\r",
        "Progress: [###########################################-------] 85.0% "
       ]
      },
      {
       "output_type": "stream",
       "stream": "stdout",
       "text": [
        "\r",
        "Progress: [###########################################-------] 86.0% "
       ]
      },
      {
       "output_type": "stream",
       "stream": "stdout",
       "text": [
        "\r",
        "Progress: [############################################------] 87.0% "
       ]
      },
      {
       "output_type": "stream",
       "stream": "stdout",
       "text": [
        "\r",
        "Progress: [############################################------] 88.0% "
       ]
      },
      {
       "output_type": "stream",
       "stream": "stdout",
       "text": [
        "\r",
        "Progress: [#############################################-----] 89.0% "
       ]
      },
      {
       "output_type": "stream",
       "stream": "stdout",
       "text": [
        "\r",
        "Progress: [#############################################-----] 90.0% "
       ]
      },
      {
       "output_type": "stream",
       "stream": "stdout",
       "text": [
        "\r",
        "Progress: [##############################################----] 91.0% "
       ]
      },
      {
       "output_type": "stream",
       "stream": "stdout",
       "text": [
        "\r",
        "Progress: [##############################################----] 92.0% "
       ]
      },
      {
       "output_type": "stream",
       "stream": "stdout",
       "text": [
        "\r",
        "Progress: [###############################################---] 93.0% "
       ]
      },
      {
       "output_type": "stream",
       "stream": "stdout",
       "text": [
        "\r",
        "Progress: [###############################################---] 94.0% "
       ]
      },
      {
       "output_type": "stream",
       "stream": "stdout",
       "text": [
        "\r",
        "Progress: [################################################--] 95.0% "
       ]
      },
      {
       "output_type": "stream",
       "stream": "stdout",
       "text": [
        "\r",
        "Progress: [################################################--] 96.0% "
       ]
      },
      {
       "output_type": "stream",
       "stream": "stdout",
       "text": [
        "\r",
        "Progress: [#################################################-] 97.0% "
       ]
      },
      {
       "output_type": "stream",
       "stream": "stdout",
       "text": [
        "\r",
        "Progress: [#################################################-] 98.0% "
       ]
      },
      {
       "output_type": "stream",
       "stream": "stdout",
       "text": [
        "\r",
        "Progress: [##################################################] 99.0% "
       ]
      },
      {
       "output_type": "stream",
       "stream": "stdout",
       "text": [
        "\r",
        "Progress: [##################################################] 100.0% Done...\r\n"
       ]
      },
      {
       "output_type": "stream",
       "stream": "stdout",
       "text": [
        "Wall Time taken:  0.0441019535065\n",
        "\n",
        "\n",
        " - - - - - - - - - - - - - - -   Epoch  2  - - - - - - - - - - - - - - -\n",
        "Training ...\n",
        "\r",
        "Progress: [--------------------------------------------------] 0.0% "
       ]
      },
      {
       "output_type": "stream",
       "stream": "stdout",
       "text": [
        "\r",
        "Progress: [#-------------------------------------------------] 1.0% "
       ]
      },
      {
       "output_type": "stream",
       "stream": "stdout",
       "text": [
        "\r",
        "Progress: [#-------------------------------------------------] 2.0% "
       ]
      },
      {
       "output_type": "stream",
       "stream": "stdout",
       "text": [
        "\r",
        "Progress: [##------------------------------------------------] 3.0% "
       ]
      },
      {
       "output_type": "stream",
       "stream": "stdout",
       "text": [
        "\r",
        "Progress: [##------------------------------------------------] 4.0% "
       ]
      },
      {
       "output_type": "stream",
       "stream": "stdout",
       "text": [
        "\r",
        "Progress: [###-----------------------------------------------] 5.0% "
       ]
      },
      {
       "output_type": "stream",
       "stream": "stdout",
       "text": [
        "\r",
        "Progress: [###-----------------------------------------------] 6.0% "
       ]
      },
      {
       "output_type": "stream",
       "stream": "stdout",
       "text": [
        "\r",
        "Progress: [####----------------------------------------------] 7.0% "
       ]
      },
      {
       "output_type": "stream",
       "stream": "stdout",
       "text": [
        "\r",
        "Progress: [####----------------------------------------------] 8.0% "
       ]
      },
      {
       "output_type": "stream",
       "stream": "stdout",
       "text": [
        "\r",
        "Progress: [#####---------------------------------------------] 9.0% "
       ]
      },
      {
       "output_type": "stream",
       "stream": "stdout",
       "text": [
        "\r",
        "Progress: [#####---------------------------------------------] 10.0% "
       ]
      },
      {
       "output_type": "stream",
       "stream": "stdout",
       "text": [
        "\r",
        "Progress: [######--------------------------------------------] 11.0% "
       ]
      },
      {
       "output_type": "stream",
       "stream": "stdout",
       "text": [
        "\r",
        "Progress: [######--------------------------------------------] 12.0% "
       ]
      },
      {
       "output_type": "stream",
       "stream": "stdout",
       "text": [
        "\r",
        "Progress: [#######-------------------------------------------] 13.0% "
       ]
      },
      {
       "output_type": "stream",
       "stream": "stdout",
       "text": [
        "\r",
        "Progress: [#######-------------------------------------------] 14.0% "
       ]
      },
      {
       "output_type": "stream",
       "stream": "stdout",
       "text": [
        "\r",
        "Progress: [########------------------------------------------] 15.0% "
       ]
      },
      {
       "output_type": "stream",
       "stream": "stdout",
       "text": [
        "\r",
        "Progress: [########------------------------------------------] 16.0% "
       ]
      },
      {
       "output_type": "stream",
       "stream": "stdout",
       "text": [
        "\r",
        "Progress: [#########-----------------------------------------] 17.0% "
       ]
      },
      {
       "output_type": "stream",
       "stream": "stdout",
       "text": [
        "\r",
        "Progress: [#########-----------------------------------------] 18.0% "
       ]
      },
      {
       "output_type": "stream",
       "stream": "stdout",
       "text": [
        "\r",
        "Progress: [##########----------------------------------------] 19.0% "
       ]
      },
      {
       "output_type": "stream",
       "stream": "stdout",
       "text": [
        "\r",
        "Progress: [##########----------------------------------------] 20.0% "
       ]
      },
      {
       "output_type": "stream",
       "stream": "stdout",
       "text": [
        "\r",
        "Progress: [###########---------------------------------------] 21.0% "
       ]
      },
      {
       "output_type": "stream",
       "stream": "stdout",
       "text": [
        "\r",
        "Progress: [###########---------------------------------------] 22.0% "
       ]
      },
      {
       "output_type": "stream",
       "stream": "stdout",
       "text": [
        "\r",
        "Progress: [############--------------------------------------] 23.0% "
       ]
      },
      {
       "output_type": "stream",
       "stream": "stdout",
       "text": [
        "\r",
        "Progress: [############--------------------------------------] 24.0% "
       ]
      },
      {
       "output_type": "stream",
       "stream": "stdout",
       "text": [
        "\r",
        "Progress: [#############-------------------------------------] 25.0% "
       ]
      },
      {
       "output_type": "stream",
       "stream": "stdout",
       "text": [
        "\r",
        "Progress: [#############-------------------------------------] 26.0% "
       ]
      },
      {
       "output_type": "stream",
       "stream": "stdout",
       "text": [
        "\r",
        "Progress: [##############------------------------------------] 27.0% "
       ]
      },
      {
       "output_type": "stream",
       "stream": "stdout",
       "text": [
        "\r",
        "Progress: [##############------------------------------------] 28.0% "
       ]
      },
      {
       "output_type": "stream",
       "stream": "stdout",
       "text": [
        "\r",
        "Progress: [##############------------------------------------] 29.0% "
       ]
      },
      {
       "output_type": "stream",
       "stream": "stdout",
       "text": [
        "\r",
        "Progress: [###############-----------------------------------] 30.0% "
       ]
      },
      {
       "output_type": "stream",
       "stream": "stdout",
       "text": [
        "\r",
        "Progress: [################----------------------------------] 31.0% "
       ]
      },
      {
       "output_type": "stream",
       "stream": "stdout",
       "text": [
        "\r",
        "Progress: [################----------------------------------] 32.0% "
       ]
      },
      {
       "output_type": "stream",
       "stream": "stdout",
       "text": [
        "\r",
        "Progress: [#################---------------------------------] 33.0% "
       ]
      },
      {
       "output_type": "stream",
       "stream": "stdout",
       "text": [
        "\r",
        "Progress: [#################---------------------------------] 34.0% "
       ]
      },
      {
       "output_type": "stream",
       "stream": "stdout",
       "text": [
        "\r",
        "Progress: [##################--------------------------------] 35.0% "
       ]
      },
      {
       "output_type": "stream",
       "stream": "stdout",
       "text": [
        "\r",
        "Progress: [##################--------------------------------] 36.0% "
       ]
      },
      {
       "output_type": "stream",
       "stream": "stdout",
       "text": [
        "\r",
        "Progress: [###################-------------------------------] 37.0% "
       ]
      },
      {
       "output_type": "stream",
       "stream": "stdout",
       "text": [
        "\r",
        "Progress: [###################-------------------------------] 38.0% "
       ]
      },
      {
       "output_type": "stream",
       "stream": "stdout",
       "text": [
        "\r",
        "Progress: [####################------------------------------] 39.0% "
       ]
      },
      {
       "output_type": "stream",
       "stream": "stdout",
       "text": [
        "\r",
        "Progress: [####################------------------------------] 40.0% "
       ]
      },
      {
       "output_type": "stream",
       "stream": "stdout",
       "text": [
        "\r",
        "Progress: [#####################-----------------------------] 41.0% "
       ]
      },
      {
       "output_type": "stream",
       "stream": "stdout",
       "text": [
        "\r",
        "Progress: [#####################-----------------------------] 42.0% "
       ]
      },
      {
       "output_type": "stream",
       "stream": "stdout",
       "text": [
        "\r",
        "Progress: [######################----------------------------] 43.0% "
       ]
      },
      {
       "output_type": "stream",
       "stream": "stdout",
       "text": [
        "\r",
        "Progress: [######################----------------------------] 44.0% "
       ]
      },
      {
       "output_type": "stream",
       "stream": "stdout",
       "text": [
        "\r",
        "Progress: [#######################---------------------------] 45.0% "
       ]
      },
      {
       "output_type": "stream",
       "stream": "stdout",
       "text": [
        "\r",
        "Progress: [#######################---------------------------] 46.0% "
       ]
      },
      {
       "output_type": "stream",
       "stream": "stdout",
       "text": [
        "\r",
        "Progress: [########################--------------------------] 47.0% "
       ]
      },
      {
       "output_type": "stream",
       "stream": "stdout",
       "text": [
        "\r",
        "Progress: [########################--------------------------] 48.0% "
       ]
      },
      {
       "output_type": "stream",
       "stream": "stdout",
       "text": [
        "\r",
        "Progress: [#########################-------------------------] 49.0% "
       ]
      },
      {
       "output_type": "stream",
       "stream": "stdout",
       "text": [
        "\r",
        "Progress: [#########################-------------------------] 50.0% "
       ]
      },
      {
       "output_type": "stream",
       "stream": "stdout",
       "text": [
        "\r",
        "Progress: [##########################------------------------] 51.0% "
       ]
      },
      {
       "output_type": "stream",
       "stream": "stdout",
       "text": [
        "\r",
        "Progress: [##########################------------------------] 52.0% "
       ]
      },
      {
       "output_type": "stream",
       "stream": "stdout",
       "text": [
        "\r",
        "Progress: [###########################-----------------------] 53.0% "
       ]
      },
      {
       "output_type": "stream",
       "stream": "stdout",
       "text": [
        "\r",
        "Progress: [###########################-----------------------] 54.0% "
       ]
      },
      {
       "output_type": "stream",
       "stream": "stdout",
       "text": [
        "\r",
        "Progress: [############################----------------------] 55.0% "
       ]
      },
      {
       "output_type": "stream",
       "stream": "stdout",
       "text": [
        "\r",
        "Progress: [############################----------------------] 56.0% "
       ]
      },
      {
       "output_type": "stream",
       "stream": "stdout",
       "text": [
        "\r",
        "Progress: [############################----------------------] 57.0% "
       ]
      },
      {
       "output_type": "stream",
       "stream": "stdout",
       "text": [
        "\r",
        "Progress: [#############################---------------------] 58.0% "
       ]
      },
      {
       "output_type": "stream",
       "stream": "stdout",
       "text": [
        "\r",
        "Progress: [##############################--------------------] 59.0% "
       ]
      },
      {
       "output_type": "stream",
       "stream": "stdout",
       "text": [
        "\r",
        "Progress: [##############################--------------------] 60.0% "
       ]
      },
      {
       "output_type": "stream",
       "stream": "stdout",
       "text": [
        "\r",
        "Progress: [###############################-------------------] 61.0% "
       ]
      },
      {
       "output_type": "stream",
       "stream": "stdout",
       "text": [
        "\r",
        "Progress: [###############################-------------------] 62.0% "
       ]
      },
      {
       "output_type": "stream",
       "stream": "stdout",
       "text": [
        "\r",
        "Progress: [################################------------------] 63.0% "
       ]
      },
      {
       "output_type": "stream",
       "stream": "stdout",
       "text": [
        "\r",
        "Progress: [################################------------------] 64.0% "
       ]
      },
      {
       "output_type": "stream",
       "stream": "stdout",
       "text": [
        "\r",
        "Progress: [#################################-----------------] 65.0% "
       ]
      },
      {
       "output_type": "stream",
       "stream": "stdout",
       "text": [
        "\r",
        "Progress: [#################################-----------------] 66.0% "
       ]
      },
      {
       "output_type": "stream",
       "stream": "stdout",
       "text": [
        "\r",
        "Progress: [##################################----------------] 67.0% "
       ]
      },
      {
       "output_type": "stream",
       "stream": "stdout",
       "text": [
        "\r",
        "Progress: [##################################----------------] 68.0% "
       ]
      },
      {
       "output_type": "stream",
       "stream": "stdout",
       "text": [
        "\r",
        "Progress: [###################################---------------] 69.0% "
       ]
      },
      {
       "output_type": "stream",
       "stream": "stdout",
       "text": [
        "\r",
        "Progress: [###################################---------------] 70.0% "
       ]
      },
      {
       "output_type": "stream",
       "stream": "stdout",
       "text": [
        "\r",
        "Progress: [####################################--------------] 71.0% "
       ]
      },
      {
       "output_type": "stream",
       "stream": "stdout",
       "text": [
        "\r",
        "Progress: [####################################--------------] 72.0% "
       ]
      },
      {
       "output_type": "stream",
       "stream": "stdout",
       "text": [
        "\r",
        "Progress: [#####################################-------------] 73.0% "
       ]
      },
      {
       "output_type": "stream",
       "stream": "stdout",
       "text": [
        "\r",
        "Progress: [#####################################-------------] 74.0% "
       ]
      },
      {
       "output_type": "stream",
       "stream": "stdout",
       "text": [
        "\r",
        "Progress: [######################################------------] 75.0% "
       ]
      },
      {
       "output_type": "stream",
       "stream": "stdout",
       "text": [
        "\r",
        "Progress: [######################################------------] 76.0% "
       ]
      },
      {
       "output_type": "stream",
       "stream": "stdout",
       "text": [
        "\r",
        "Progress: [#######################################-----------] 77.0% "
       ]
      },
      {
       "output_type": "stream",
       "stream": "stdout",
       "text": [
        "\r",
        "Progress: [#######################################-----------] 78.0% "
       ]
      },
      {
       "output_type": "stream",
       "stream": "stdout",
       "text": [
        "\r",
        "Progress: [########################################----------] 79.0% "
       ]
      },
      {
       "output_type": "stream",
       "stream": "stdout",
       "text": [
        "\r",
        "Progress: [########################################----------] 80.0% "
       ]
      },
      {
       "output_type": "stream",
       "stream": "stdout",
       "text": [
        "\r",
        "Progress: [#########################################---------] 81.0% "
       ]
      },
      {
       "output_type": "stream",
       "stream": "stdout",
       "text": [
        "\r",
        "Progress: [#########################################---------] 82.0% "
       ]
      },
      {
       "output_type": "stream",
       "stream": "stdout",
       "text": [
        "\r",
        "Progress: [##########################################--------] 83.0% "
       ]
      },
      {
       "output_type": "stream",
       "stream": "stdout",
       "text": [
        "\r",
        "Progress: [##########################################--------] 84.0% "
       ]
      },
      {
       "output_type": "stream",
       "stream": "stdout",
       "text": [
        "\r",
        "Progress: [###########################################-------] 85.0% "
       ]
      },
      {
       "output_type": "stream",
       "stream": "stdout",
       "text": [
        "\r",
        "Progress: [###########################################-------] 86.0% "
       ]
      },
      {
       "output_type": "stream",
       "stream": "stdout",
       "text": [
        "\r",
        "Progress: [############################################------] 87.0% "
       ]
      },
      {
       "output_type": "stream",
       "stream": "stdout",
       "text": [
        "\r",
        "Progress: [############################################------] 88.0% "
       ]
      },
      {
       "output_type": "stream",
       "stream": "stdout",
       "text": [
        "\r",
        "Progress: [#############################################-----] 89.0% "
       ]
      },
      {
       "output_type": "stream",
       "stream": "stdout",
       "text": [
        "\r",
        "Progress: [#############################################-----] 90.0% "
       ]
      },
      {
       "output_type": "stream",
       "stream": "stdout",
       "text": [
        "\r",
        "Progress: [##############################################----] 91.0% "
       ]
      },
      {
       "output_type": "stream",
       "stream": "stdout",
       "text": [
        "\r",
        "Progress: [##############################################----] 92.0% "
       ]
      },
      {
       "output_type": "stream",
       "stream": "stdout",
       "text": [
        "\r",
        "Progress: [###############################################---] 93.0% "
       ]
      },
      {
       "output_type": "stream",
       "stream": "stdout",
       "text": [
        "\r",
        "Progress: [###############################################---] 94.0% "
       ]
      },
      {
       "output_type": "stream",
       "stream": "stdout",
       "text": [
        "\r",
        "Progress: [################################################--] 95.0% "
       ]
      },
      {
       "output_type": "stream",
       "stream": "stdout",
       "text": [
        "\r",
        "Progress: [################################################--] 96.0% "
       ]
      },
      {
       "output_type": "stream",
       "stream": "stdout",
       "text": [
        "\r",
        "Progress: [#################################################-] 97.0% "
       ]
      },
      {
       "output_type": "stream",
       "stream": "stdout",
       "text": [
        "\r",
        "Progress: [#################################################-] 98.0% "
       ]
      },
      {
       "output_type": "stream",
       "stream": "stdout",
       "text": [
        "\r",
        "Progress: [##################################################] 99.0% "
       ]
      },
      {
       "output_type": "stream",
       "stream": "stdout",
       "text": [
        "\r",
        "Progress: [##################################################] 100.0% Done...\r\n"
       ]
      },
      {
       "output_type": "stream",
       "stream": "stdout",
       "text": [
        "Wall Time taken:  0.0382170677185\n",
        "\n",
        "\n",
        " - - - - - - - - - - - - - - -   Epoch  3  - - - - - - - - - - - - - - -\n",
        "Training ...\n",
        "\r",
        "Progress: [--------------------------------------------------] 0.0% "
       ]
      },
      {
       "output_type": "stream",
       "stream": "stdout",
       "text": [
        "\r",
        "Progress: [#-------------------------------------------------] 1.0% "
       ]
      },
      {
       "output_type": "stream",
       "stream": "stdout",
       "text": [
        "\r",
        "Progress: [#-------------------------------------------------] 2.0% "
       ]
      },
      {
       "output_type": "stream",
       "stream": "stdout",
       "text": [
        "\r",
        "Progress: [##------------------------------------------------] 3.0% "
       ]
      },
      {
       "output_type": "stream",
       "stream": "stdout",
       "text": [
        "\r",
        "Progress: [##------------------------------------------------] 4.0% "
       ]
      },
      {
       "output_type": "stream",
       "stream": "stdout",
       "text": [
        "\r",
        "Progress: [###-----------------------------------------------] 5.0% "
       ]
      },
      {
       "output_type": "stream",
       "stream": "stdout",
       "text": [
        "\r",
        "Progress: [###-----------------------------------------------] 6.0% "
       ]
      },
      {
       "output_type": "stream",
       "stream": "stdout",
       "text": [
        "\r",
        "Progress: [####----------------------------------------------] 7.0% "
       ]
      },
      {
       "output_type": "stream",
       "stream": "stdout",
       "text": [
        "\r",
        "Progress: [####----------------------------------------------] 8.0% "
       ]
      },
      {
       "output_type": "stream",
       "stream": "stdout",
       "text": [
        "\r",
        "Progress: [#####---------------------------------------------] 9.0% "
       ]
      },
      {
       "output_type": "stream",
       "stream": "stdout",
       "text": [
        "\r",
        "Progress: [#####---------------------------------------------] 10.0% "
       ]
      },
      {
       "output_type": "stream",
       "stream": "stdout",
       "text": [
        "\r",
        "Progress: [######--------------------------------------------] 11.0% "
       ]
      },
      {
       "output_type": "stream",
       "stream": "stdout",
       "text": [
        "\r",
        "Progress: [######--------------------------------------------] 12.0% "
       ]
      },
      {
       "output_type": "stream",
       "stream": "stdout",
       "text": [
        "\r",
        "Progress: [#######-------------------------------------------] 13.0% "
       ]
      },
      {
       "output_type": "stream",
       "stream": "stdout",
       "text": [
        "\r",
        "Progress: [#######-------------------------------------------] 14.0% "
       ]
      },
      {
       "output_type": "stream",
       "stream": "stdout",
       "text": [
        "\r",
        "Progress: [########------------------------------------------] 15.0% "
       ]
      },
      {
       "output_type": "stream",
       "stream": "stdout",
       "text": [
        "\r",
        "Progress: [########------------------------------------------] 16.0% "
       ]
      },
      {
       "output_type": "stream",
       "stream": "stdout",
       "text": [
        "\r",
        "Progress: [#########-----------------------------------------] 17.0% "
       ]
      },
      {
       "output_type": "stream",
       "stream": "stdout",
       "text": [
        "\r",
        "Progress: [#########-----------------------------------------] 18.0% "
       ]
      },
      {
       "output_type": "stream",
       "stream": "stdout",
       "text": [
        "\r",
        "Progress: [##########----------------------------------------] 19.0% "
       ]
      },
      {
       "output_type": "stream",
       "stream": "stdout",
       "text": [
        "\r",
        "Progress: [##########----------------------------------------] 20.0% "
       ]
      },
      {
       "output_type": "stream",
       "stream": "stdout",
       "text": [
        "\r",
        "Progress: [###########---------------------------------------] 21.0% "
       ]
      },
      {
       "output_type": "stream",
       "stream": "stdout",
       "text": [
        "\r",
        "Progress: [###########---------------------------------------] 22.0% "
       ]
      },
      {
       "output_type": "stream",
       "stream": "stdout",
       "text": [
        "\r",
        "Progress: [############--------------------------------------] 23.0% "
       ]
      },
      {
       "output_type": "stream",
       "stream": "stdout",
       "text": [
        "\r",
        "Progress: [############--------------------------------------] 24.0% "
       ]
      },
      {
       "output_type": "stream",
       "stream": "stdout",
       "text": [
        "\r",
        "Progress: [#############-------------------------------------] 25.0% "
       ]
      },
      {
       "output_type": "stream",
       "stream": "stdout",
       "text": [
        "\r",
        "Progress: [#############-------------------------------------] 26.0% "
       ]
      },
      {
       "output_type": "stream",
       "stream": "stdout",
       "text": [
        "\r",
        "Progress: [##############------------------------------------] 27.0% "
       ]
      },
      {
       "output_type": "stream",
       "stream": "stdout",
       "text": [
        "\r",
        "Progress: [##############------------------------------------] 28.0% "
       ]
      },
      {
       "output_type": "stream",
       "stream": "stdout",
       "text": [
        "\r",
        "Progress: [##############------------------------------------] 29.0% "
       ]
      },
      {
       "output_type": "stream",
       "stream": "stdout",
       "text": [
        "\r",
        "Progress: [###############-----------------------------------] 30.0% "
       ]
      },
      {
       "output_type": "stream",
       "stream": "stdout",
       "text": [
        "\r",
        "Progress: [################----------------------------------] 31.0% "
       ]
      },
      {
       "output_type": "stream",
       "stream": "stdout",
       "text": [
        "\r",
        "Progress: [################----------------------------------] 32.0% "
       ]
      },
      {
       "output_type": "stream",
       "stream": "stdout",
       "text": [
        "\r",
        "Progress: [#################---------------------------------] 33.0% "
       ]
      },
      {
       "output_type": "stream",
       "stream": "stdout",
       "text": [
        "\r",
        "Progress: [#################---------------------------------] 34.0% "
       ]
      },
      {
       "output_type": "stream",
       "stream": "stdout",
       "text": [
        "\r",
        "Progress: [##################--------------------------------] 35.0% "
       ]
      },
      {
       "output_type": "stream",
       "stream": "stdout",
       "text": [
        "\r",
        "Progress: [##################--------------------------------] 36.0% "
       ]
      },
      {
       "output_type": "stream",
       "stream": "stdout",
       "text": [
        "\r",
        "Progress: [###################-------------------------------] 37.0% "
       ]
      },
      {
       "output_type": "stream",
       "stream": "stdout",
       "text": [
        "\r",
        "Progress: [###################-------------------------------] 38.0% "
       ]
      },
      {
       "output_type": "stream",
       "stream": "stdout",
       "text": [
        "\r",
        "Progress: [####################------------------------------] 39.0% "
       ]
      },
      {
       "output_type": "stream",
       "stream": "stdout",
       "text": [
        "\r",
        "Progress: [####################------------------------------] 40.0% "
       ]
      },
      {
       "output_type": "stream",
       "stream": "stdout",
       "text": [
        "\r",
        "Progress: [#####################-----------------------------] 41.0% "
       ]
      },
      {
       "output_type": "stream",
       "stream": "stdout",
       "text": [
        "\r",
        "Progress: [#####################-----------------------------] 42.0% "
       ]
      },
      {
       "output_type": "stream",
       "stream": "stdout",
       "text": [
        "\r",
        "Progress: [######################----------------------------] 43.0% "
       ]
      },
      {
       "output_type": "stream",
       "stream": "stdout",
       "text": [
        "\r",
        "Progress: [######################----------------------------] 44.0% "
       ]
      },
      {
       "output_type": "stream",
       "stream": "stdout",
       "text": [
        "\r",
        "Progress: [#######################---------------------------] 45.0% "
       ]
      },
      {
       "output_type": "stream",
       "stream": "stdout",
       "text": [
        "\r",
        "Progress: [#######################---------------------------] 46.0% "
       ]
      },
      {
       "output_type": "stream",
       "stream": "stdout",
       "text": [
        "\r",
        "Progress: [########################--------------------------] 47.0% "
       ]
      },
      {
       "output_type": "stream",
       "stream": "stdout",
       "text": [
        "\r",
        "Progress: [########################--------------------------] 48.0% "
       ]
      },
      {
       "output_type": "stream",
       "stream": "stdout",
       "text": [
        "\r",
        "Progress: [#########################-------------------------] 49.0% "
       ]
      },
      {
       "output_type": "stream",
       "stream": "stdout",
       "text": [
        "\r",
        "Progress: [#########################-------------------------] 50.0% "
       ]
      },
      {
       "output_type": "stream",
       "stream": "stdout",
       "text": [
        "\r",
        "Progress: [##########################------------------------] 51.0% "
       ]
      },
      {
       "output_type": "stream",
       "stream": "stdout",
       "text": [
        "\r",
        "Progress: [##########################------------------------] 52.0% "
       ]
      },
      {
       "output_type": "stream",
       "stream": "stdout",
       "text": [
        "\r",
        "Progress: [###########################-----------------------] 53.0% "
       ]
      },
      {
       "output_type": "stream",
       "stream": "stdout",
       "text": [
        "\r",
        "Progress: [###########################-----------------------] 54.0% "
       ]
      },
      {
       "output_type": "stream",
       "stream": "stdout",
       "text": [
        "\r",
        "Progress: [############################----------------------] 55.0% "
       ]
      },
      {
       "output_type": "stream",
       "stream": "stdout",
       "text": [
        "\r",
        "Progress: [############################----------------------] 56.0% "
       ]
      },
      {
       "output_type": "stream",
       "stream": "stdout",
       "text": [
        "\r",
        "Progress: [############################----------------------] 57.0% "
       ]
      },
      {
       "output_type": "stream",
       "stream": "stdout",
       "text": [
        "\r",
        "Progress: [#############################---------------------] 58.0% "
       ]
      },
      {
       "output_type": "stream",
       "stream": "stdout",
       "text": [
        "\r",
        "Progress: [##############################--------------------] 59.0% "
       ]
      },
      {
       "output_type": "stream",
       "stream": "stdout",
       "text": [
        "\r",
        "Progress: [##############################--------------------] 60.0% "
       ]
      },
      {
       "output_type": "stream",
       "stream": "stdout",
       "text": [
        "\r",
        "Progress: [###############################-------------------] 61.0% "
       ]
      },
      {
       "output_type": "stream",
       "stream": "stdout",
       "text": [
        "\r",
        "Progress: [###############################-------------------] 62.0% "
       ]
      },
      {
       "output_type": "stream",
       "stream": "stdout",
       "text": [
        "\r",
        "Progress: [################################------------------] 63.0% "
       ]
      },
      {
       "output_type": "stream",
       "stream": "stdout",
       "text": [
        "\r",
        "Progress: [################################------------------] 64.0% "
       ]
      },
      {
       "output_type": "stream",
       "stream": "stdout",
       "text": [
        "\r",
        "Progress: [#################################-----------------] 65.0% "
       ]
      },
      {
       "output_type": "stream",
       "stream": "stdout",
       "text": [
        "\r",
        "Progress: [#################################-----------------] 66.0% "
       ]
      },
      {
       "output_type": "stream",
       "stream": "stdout",
       "text": [
        "\r",
        "Progress: [##################################----------------] 67.0% "
       ]
      },
      {
       "output_type": "stream",
       "stream": "stdout",
       "text": [
        "\r",
        "Progress: [##################################----------------] 68.0% "
       ]
      },
      {
       "output_type": "stream",
       "stream": "stdout",
       "text": [
        "\r",
        "Progress: [###################################---------------] 69.0% "
       ]
      },
      {
       "output_type": "stream",
       "stream": "stdout",
       "text": [
        "\r",
        "Progress: [###################################---------------] 70.0% "
       ]
      },
      {
       "output_type": "stream",
       "stream": "stdout",
       "text": [
        "\r",
        "Progress: [####################################--------------] 71.0% "
       ]
      },
      {
       "output_type": "stream",
       "stream": "stdout",
       "text": [
        "\r",
        "Progress: [####################################--------------] 72.0% "
       ]
      },
      {
       "output_type": "stream",
       "stream": "stdout",
       "text": [
        "\r",
        "Progress: [#####################################-------------] 73.0% "
       ]
      },
      {
       "output_type": "stream",
       "stream": "stdout",
       "text": [
        "\r",
        "Progress: [#####################################-------------] 74.0% "
       ]
      },
      {
       "output_type": "stream",
       "stream": "stdout",
       "text": [
        "\r",
        "Progress: [######################################------------] 75.0% "
       ]
      },
      {
       "output_type": "stream",
       "stream": "stdout",
       "text": [
        "\r",
        "Progress: [######################################------------] 76.0% "
       ]
      },
      {
       "output_type": "stream",
       "stream": "stdout",
       "text": [
        "\r",
        "Progress: [#######################################-----------] 77.0% "
       ]
      },
      {
       "output_type": "stream",
       "stream": "stdout",
       "text": [
        "\r",
        "Progress: [#######################################-----------] 78.0% "
       ]
      },
      {
       "output_type": "stream",
       "stream": "stdout",
       "text": [
        "\r",
        "Progress: [########################################----------] 79.0% "
       ]
      },
      {
       "output_type": "stream",
       "stream": "stdout",
       "text": [
        "\r",
        "Progress: [########################################----------] 80.0% "
       ]
      },
      {
       "output_type": "stream",
       "stream": "stdout",
       "text": [
        "\r",
        "Progress: [#########################################---------] 81.0% "
       ]
      },
      {
       "output_type": "stream",
       "stream": "stdout",
       "text": [
        "\r",
        "Progress: [#########################################---------] 82.0% "
       ]
      },
      {
       "output_type": "stream",
       "stream": "stdout",
       "text": [
        "\r",
        "Progress: [##########################################--------] 83.0% "
       ]
      },
      {
       "output_type": "stream",
       "stream": "stdout",
       "text": [
        "\r",
        "Progress: [##########################################--------] 84.0% "
       ]
      },
      {
       "output_type": "stream",
       "stream": "stdout",
       "text": [
        "\r",
        "Progress: [###########################################-------] 85.0% "
       ]
      },
      {
       "output_type": "stream",
       "stream": "stdout",
       "text": [
        "\r",
        "Progress: [###########################################-------] 86.0% "
       ]
      },
      {
       "output_type": "stream",
       "stream": "stdout",
       "text": [
        "\r",
        "Progress: [############################################------] 87.0% "
       ]
      },
      {
       "output_type": "stream",
       "stream": "stdout",
       "text": [
        "\r",
        "Progress: [############################################------] 88.0% "
       ]
      },
      {
       "output_type": "stream",
       "stream": "stdout",
       "text": [
        "\r",
        "Progress: [#############################################-----] 89.0% "
       ]
      },
      {
       "output_type": "stream",
       "stream": "stdout",
       "text": [
        "\r",
        "Progress: [#############################################-----] 90.0% "
       ]
      },
      {
       "output_type": "stream",
       "stream": "stdout",
       "text": [
        "\r",
        "Progress: [##############################################----] 91.0% "
       ]
      },
      {
       "output_type": "stream",
       "stream": "stdout",
       "text": [
        "\r",
        "Progress: [##############################################----] 92.0% "
       ]
      },
      {
       "output_type": "stream",
       "stream": "stdout",
       "text": [
        "\r",
        "Progress: [###############################################---] 93.0% "
       ]
      },
      {
       "output_type": "stream",
       "stream": "stdout",
       "text": [
        "\r",
        "Progress: [###############################################---] 94.0% "
       ]
      },
      {
       "output_type": "stream",
       "stream": "stdout",
       "text": [
        "\r",
        "Progress: [################################################--] 95.0% "
       ]
      },
      {
       "output_type": "stream",
       "stream": "stdout",
       "text": [
        "\r",
        "Progress: [################################################--] 96.0% "
       ]
      },
      {
       "output_type": "stream",
       "stream": "stdout",
       "text": [
        "\r",
        "Progress: [#################################################-] 97.0% "
       ]
      },
      {
       "output_type": "stream",
       "stream": "stdout",
       "text": [
        "\r",
        "Progress: [#################################################-] 98.0% "
       ]
      },
      {
       "output_type": "stream",
       "stream": "stdout",
       "text": [
        "\r",
        "Progress: [##################################################] 99.0% "
       ]
      },
      {
       "output_type": "stream",
       "stream": "stdout",
       "text": [
        "\r",
        "Progress: [##################################################] 100.0% Done...\r\n"
       ]
      },
      {
       "output_type": "stream",
       "stream": "stdout",
       "text": [
        "Wall Time taken:  0.0396368503571\n",
        "\n",
        "\n",
        " - - - - - - - - - - - - - - -   Epoch  4  - - - - - - - - - - - - - - -\n",
        "Training ...\n",
        "\r",
        "Progress: [--------------------------------------------------] 0.0% "
       ]
      },
      {
       "output_type": "stream",
       "stream": "stdout",
       "text": [
        "\r",
        "Progress: [#-------------------------------------------------] 1.0% "
       ]
      },
      {
       "output_type": "stream",
       "stream": "stdout",
       "text": [
        "\r",
        "Progress: [#-------------------------------------------------] 2.0% "
       ]
      },
      {
       "output_type": "stream",
       "stream": "stdout",
       "text": [
        "\r",
        "Progress: [##------------------------------------------------] 3.0% "
       ]
      },
      {
       "output_type": "stream",
       "stream": "stdout",
       "text": [
        "\r",
        "Progress: [##------------------------------------------------] 4.0% "
       ]
      },
      {
       "output_type": "stream",
       "stream": "stdout",
       "text": [
        "\r",
        "Progress: [###-----------------------------------------------] 5.0% "
       ]
      },
      {
       "output_type": "stream",
       "stream": "stdout",
       "text": [
        "\r",
        "Progress: [###-----------------------------------------------] 6.0% "
       ]
      },
      {
       "output_type": "stream",
       "stream": "stdout",
       "text": [
        "\r",
        "Progress: [####----------------------------------------------] 7.0% "
       ]
      },
      {
       "output_type": "stream",
       "stream": "stdout",
       "text": [
        "\r",
        "Progress: [####----------------------------------------------] 8.0% "
       ]
      },
      {
       "output_type": "stream",
       "stream": "stdout",
       "text": [
        "\r",
        "Progress: [#####---------------------------------------------] 9.0% "
       ]
      },
      {
       "output_type": "stream",
       "stream": "stdout",
       "text": [
        "\r",
        "Progress: [#####---------------------------------------------] 10.0% "
       ]
      },
      {
       "output_type": "stream",
       "stream": "stdout",
       "text": [
        "\r",
        "Progress: [######--------------------------------------------] 11.0% "
       ]
      },
      {
       "output_type": "stream",
       "stream": "stdout",
       "text": [
        "\r",
        "Progress: [######--------------------------------------------] 12.0% "
       ]
      },
      {
       "output_type": "stream",
       "stream": "stdout",
       "text": [
        "\r",
        "Progress: [#######-------------------------------------------] 13.0% "
       ]
      },
      {
       "output_type": "stream",
       "stream": "stdout",
       "text": [
        "\r",
        "Progress: [#######-------------------------------------------] 14.0% "
       ]
      },
      {
       "output_type": "stream",
       "stream": "stdout",
       "text": [
        "\r",
        "Progress: [########------------------------------------------] 15.0% "
       ]
      },
      {
       "output_type": "stream",
       "stream": "stdout",
       "text": [
        "\r",
        "Progress: [########------------------------------------------] 16.0% "
       ]
      },
      {
       "output_type": "stream",
       "stream": "stdout",
       "text": [
        "\r",
        "Progress: [#########-----------------------------------------] 17.0% "
       ]
      },
      {
       "output_type": "stream",
       "stream": "stdout",
       "text": [
        "\r",
        "Progress: [#########-----------------------------------------] 18.0% "
       ]
      },
      {
       "output_type": "stream",
       "stream": "stdout",
       "text": [
        "\r",
        "Progress: [##########----------------------------------------] 19.0% "
       ]
      },
      {
       "output_type": "stream",
       "stream": "stdout",
       "text": [
        "\r",
        "Progress: [##########----------------------------------------] 20.0% "
       ]
      },
      {
       "output_type": "stream",
       "stream": "stdout",
       "text": [
        "\r",
        "Progress: [###########---------------------------------------] 21.0% "
       ]
      },
      {
       "output_type": "stream",
       "stream": "stdout",
       "text": [
        "\r",
        "Progress: [###########---------------------------------------] 22.0% "
       ]
      },
      {
       "output_type": "stream",
       "stream": "stdout",
       "text": [
        "\r",
        "Progress: [############--------------------------------------] 23.0% "
       ]
      },
      {
       "output_type": "stream",
       "stream": "stdout",
       "text": [
        "\r",
        "Progress: [############--------------------------------------] 24.0% "
       ]
      },
      {
       "output_type": "stream",
       "stream": "stdout",
       "text": [
        "\r",
        "Progress: [#############-------------------------------------] 25.0% "
       ]
      },
      {
       "output_type": "stream",
       "stream": "stdout",
       "text": [
        "\r",
        "Progress: [#############-------------------------------------] 26.0% "
       ]
      },
      {
       "output_type": "stream",
       "stream": "stdout",
       "text": [
        "\r",
        "Progress: [##############------------------------------------] 27.0% "
       ]
      },
      {
       "output_type": "stream",
       "stream": "stdout",
       "text": [
        "\r",
        "Progress: [##############------------------------------------] 28.0% "
       ]
      },
      {
       "output_type": "stream",
       "stream": "stdout",
       "text": [
        "\r",
        "Progress: [##############------------------------------------] 29.0% "
       ]
      },
      {
       "output_type": "stream",
       "stream": "stdout",
       "text": [
        "\r",
        "Progress: [###############-----------------------------------] 30.0% "
       ]
      },
      {
       "output_type": "stream",
       "stream": "stdout",
       "text": [
        "\r",
        "Progress: [################----------------------------------] 31.0% "
       ]
      },
      {
       "output_type": "stream",
       "stream": "stdout",
       "text": [
        "\r",
        "Progress: [################----------------------------------] 32.0% "
       ]
      },
      {
       "output_type": "stream",
       "stream": "stdout",
       "text": [
        "\r",
        "Progress: [#################---------------------------------] 33.0% "
       ]
      },
      {
       "output_type": "stream",
       "stream": "stdout",
       "text": [
        "\r",
        "Progress: [#################---------------------------------] 34.0% "
       ]
      },
      {
       "output_type": "stream",
       "stream": "stdout",
       "text": [
        "\r",
        "Progress: [##################--------------------------------] 35.0% "
       ]
      },
      {
       "output_type": "stream",
       "stream": "stdout",
       "text": [
        "\r",
        "Progress: [##################--------------------------------] 36.0% "
       ]
      },
      {
       "output_type": "stream",
       "stream": "stdout",
       "text": [
        "\r",
        "Progress: [###################-------------------------------] 37.0% "
       ]
      },
      {
       "output_type": "stream",
       "stream": "stdout",
       "text": [
        "\r",
        "Progress: [###################-------------------------------] 38.0% "
       ]
      },
      {
       "output_type": "stream",
       "stream": "stdout",
       "text": [
        "\r",
        "Progress: [####################------------------------------] 39.0% "
       ]
      },
      {
       "output_type": "stream",
       "stream": "stdout",
       "text": [
        "\r",
        "Progress: [####################------------------------------] 40.0% "
       ]
      },
      {
       "output_type": "stream",
       "stream": "stdout",
       "text": [
        "\r",
        "Progress: [#####################-----------------------------] 41.0% "
       ]
      },
      {
       "output_type": "stream",
       "stream": "stdout",
       "text": [
        "\r",
        "Progress: [#####################-----------------------------] 42.0% "
       ]
      },
      {
       "output_type": "stream",
       "stream": "stdout",
       "text": [
        "\r",
        "Progress: [######################----------------------------] 43.0% "
       ]
      },
      {
       "output_type": "stream",
       "stream": "stdout",
       "text": [
        "\r",
        "Progress: [######################----------------------------] 44.0% "
       ]
      },
      {
       "output_type": "stream",
       "stream": "stdout",
       "text": [
        "\r",
        "Progress: [#######################---------------------------] 45.0% "
       ]
      },
      {
       "output_type": "stream",
       "stream": "stdout",
       "text": [
        "\r",
        "Progress: [#######################---------------------------] 46.0% "
       ]
      },
      {
       "output_type": "stream",
       "stream": "stdout",
       "text": [
        "\r",
        "Progress: [########################--------------------------] 47.0% "
       ]
      },
      {
       "output_type": "stream",
       "stream": "stdout",
       "text": [
        "\r",
        "Progress: [########################--------------------------] 48.0% "
       ]
      },
      {
       "output_type": "stream",
       "stream": "stdout",
       "text": [
        "\r",
        "Progress: [#########################-------------------------] 49.0% "
       ]
      },
      {
       "output_type": "stream",
       "stream": "stdout",
       "text": [
        "\r",
        "Progress: [#########################-------------------------] 50.0% "
       ]
      },
      {
       "output_type": "stream",
       "stream": "stdout",
       "text": [
        "\r",
        "Progress: [##########################------------------------] 51.0% "
       ]
      },
      {
       "output_type": "stream",
       "stream": "stdout",
       "text": [
        "\r",
        "Progress: [##########################------------------------] 52.0% "
       ]
      },
      {
       "output_type": "stream",
       "stream": "stdout",
       "text": [
        "\r",
        "Progress: [###########################-----------------------] 53.0% "
       ]
      },
      {
       "output_type": "stream",
       "stream": "stdout",
       "text": [
        "\r",
        "Progress: [###########################-----------------------] 54.0% "
       ]
      },
      {
       "output_type": "stream",
       "stream": "stdout",
       "text": [
        "\r",
        "Progress: [############################----------------------] 55.0% "
       ]
      },
      {
       "output_type": "stream",
       "stream": "stdout",
       "text": [
        "\r",
        "Progress: [############################----------------------] 56.0% "
       ]
      },
      {
       "output_type": "stream",
       "stream": "stdout",
       "text": [
        "\r",
        "Progress: [############################----------------------] 57.0% "
       ]
      },
      {
       "output_type": "stream",
       "stream": "stdout",
       "text": [
        "\r",
        "Progress: [#############################---------------------] 58.0% "
       ]
      },
      {
       "output_type": "stream",
       "stream": "stdout",
       "text": [
        "\r",
        "Progress: [##############################--------------------] 59.0% "
       ]
      },
      {
       "output_type": "stream",
       "stream": "stdout",
       "text": [
        "\r",
        "Progress: [##############################--------------------] 60.0% "
       ]
      },
      {
       "output_type": "stream",
       "stream": "stdout",
       "text": [
        "\r",
        "Progress: [###############################-------------------] 61.0% "
       ]
      },
      {
       "output_type": "stream",
       "stream": "stdout",
       "text": [
        "\r",
        "Progress: [###############################-------------------] 62.0% "
       ]
      },
      {
       "output_type": "stream",
       "stream": "stdout",
       "text": [
        "\r",
        "Progress: [################################------------------] 63.0% "
       ]
      },
      {
       "output_type": "stream",
       "stream": "stdout",
       "text": [
        "\r",
        "Progress: [################################------------------] 64.0% "
       ]
      },
      {
       "output_type": "stream",
       "stream": "stdout",
       "text": [
        "\r",
        "Progress: [#################################-----------------] 65.0% "
       ]
      },
      {
       "output_type": "stream",
       "stream": "stdout",
       "text": [
        "\r",
        "Progress: [#################################-----------------] 66.0% "
       ]
      },
      {
       "output_type": "stream",
       "stream": "stdout",
       "text": [
        "\r",
        "Progress: [##################################----------------] 67.0% "
       ]
      },
      {
       "output_type": "stream",
       "stream": "stdout",
       "text": [
        "\r",
        "Progress: [##################################----------------] 68.0% "
       ]
      },
      {
       "output_type": "stream",
       "stream": "stdout",
       "text": [
        "\r",
        "Progress: [###################################---------------] 69.0% "
       ]
      },
      {
       "output_type": "stream",
       "stream": "stdout",
       "text": [
        "\r",
        "Progress: [###################################---------------] 70.0% "
       ]
      },
      {
       "output_type": "stream",
       "stream": "stdout",
       "text": [
        "\r",
        "Progress: [####################################--------------] 71.0% "
       ]
      },
      {
       "output_type": "stream",
       "stream": "stdout",
       "text": [
        "\r",
        "Progress: [####################################--------------] 72.0% "
       ]
      },
      {
       "output_type": "stream",
       "stream": "stdout",
       "text": [
        "\r",
        "Progress: [#####################################-------------] 73.0% "
       ]
      },
      {
       "output_type": "stream",
       "stream": "stdout",
       "text": [
        "\r",
        "Progress: [#####################################-------------] 74.0% "
       ]
      },
      {
       "output_type": "stream",
       "stream": "stdout",
       "text": [
        "\r",
        "Progress: [######################################------------] 75.0% "
       ]
      },
      {
       "output_type": "stream",
       "stream": "stdout",
       "text": [
        "\r",
        "Progress: [######################################------------] 76.0% "
       ]
      },
      {
       "output_type": "stream",
       "stream": "stdout",
       "text": [
        "\r",
        "Progress: [#######################################-----------] 77.0% "
       ]
      },
      {
       "output_type": "stream",
       "stream": "stdout",
       "text": [
        "\r",
        "Progress: [#######################################-----------] 78.0% "
       ]
      },
      {
       "output_type": "stream",
       "stream": "stdout",
       "text": [
        "\r",
        "Progress: [########################################----------] 79.0% "
       ]
      },
      {
       "output_type": "stream",
       "stream": "stdout",
       "text": [
        "\r",
        "Progress: [########################################----------] 80.0% "
       ]
      },
      {
       "output_type": "stream",
       "stream": "stdout",
       "text": [
        "\r",
        "Progress: [#########################################---------] 81.0% "
       ]
      },
      {
       "output_type": "stream",
       "stream": "stdout",
       "text": [
        "\r",
        "Progress: [#########################################---------] 82.0% "
       ]
      },
      {
       "output_type": "stream",
       "stream": "stdout",
       "text": [
        "\r",
        "Progress: [##########################################--------] 83.0% "
       ]
      },
      {
       "output_type": "stream",
       "stream": "stdout",
       "text": [
        "\r",
        "Progress: [##########################################--------] 84.0% "
       ]
      },
      {
       "output_type": "stream",
       "stream": "stdout",
       "text": [
        "\r",
        "Progress: [###########################################-------] 85.0% "
       ]
      },
      {
       "output_type": "stream",
       "stream": "stdout",
       "text": [
        "\r",
        "Progress: [###########################################-------] 86.0% "
       ]
      },
      {
       "output_type": "stream",
       "stream": "stdout",
       "text": [
        "\r",
        "Progress: [############################################------] 87.0% "
       ]
      },
      {
       "output_type": "stream",
       "stream": "stdout",
       "text": [
        "\r",
        "Progress: [############################################------] 88.0% "
       ]
      },
      {
       "output_type": "stream",
       "stream": "stdout",
       "text": [
        "\r",
        "Progress: [#############################################-----] 89.0% "
       ]
      },
      {
       "output_type": "stream",
       "stream": "stdout",
       "text": [
        "\r",
        "Progress: [#############################################-----] 90.0% "
       ]
      },
      {
       "output_type": "stream",
       "stream": "stdout",
       "text": [
        "\r",
        "Progress: [##############################################----] 91.0% "
       ]
      },
      {
       "output_type": "stream",
       "stream": "stdout",
       "text": [
        "\r",
        "Progress: [##############################################----] 92.0% "
       ]
      },
      {
       "output_type": "stream",
       "stream": "stdout",
       "text": [
        "\r",
        "Progress: [###############################################---] 93.0% "
       ]
      },
      {
       "output_type": "stream",
       "stream": "stdout",
       "text": [
        "\r",
        "Progress: [###############################################---] 94.0% "
       ]
      },
      {
       "output_type": "stream",
       "stream": "stdout",
       "text": [
        "\r",
        "Progress: [################################################--] 95.0% "
       ]
      },
      {
       "output_type": "stream",
       "stream": "stdout",
       "text": [
        "\r",
        "Progress: [################################################--] 96.0% "
       ]
      },
      {
       "output_type": "stream",
       "stream": "stdout",
       "text": [
        "\r",
        "Progress: [#################################################-] 97.0% "
       ]
      },
      {
       "output_type": "stream",
       "stream": "stdout",
       "text": [
        "\r",
        "Progress: [#################################################-] 98.0% "
       ]
      },
      {
       "output_type": "stream",
       "stream": "stdout",
       "text": [
        "\r",
        "Progress: [##################################################] 99.0% "
       ]
      },
      {
       "output_type": "stream",
       "stream": "stdout",
       "text": [
        "\r",
        "Progress: [##################################################] 100.0% Done...\r\n"
       ]
      },
      {
       "output_type": "stream",
       "stream": "stdout",
       "text": [
        "Wall Time taken:  0.0378520488739\n",
        "\n",
        "\n",
        " - - - - - - - - - - - - - - -   Epoch  5  - - - - - - - - - - - - - - -\n",
        "Training ...\n",
        "\r",
        "Progress: [--------------------------------------------------] 0.0% "
       ]
      },
      {
       "output_type": "stream",
       "stream": "stdout",
       "text": [
        "\r",
        "Progress: [#-------------------------------------------------] 1.0% "
       ]
      },
      {
       "output_type": "stream",
       "stream": "stdout",
       "text": [
        "\r",
        "Progress: [#-------------------------------------------------] 2.0% "
       ]
      },
      {
       "output_type": "stream",
       "stream": "stdout",
       "text": [
        "\r",
        "Progress: [##------------------------------------------------] 3.0% "
       ]
      },
      {
       "output_type": "stream",
       "stream": "stdout",
       "text": [
        "\r",
        "Progress: [##------------------------------------------------] 4.0% "
       ]
      },
      {
       "output_type": "stream",
       "stream": "stdout",
       "text": [
        "\r",
        "Progress: [###-----------------------------------------------] 5.0% "
       ]
      },
      {
       "output_type": "stream",
       "stream": "stdout",
       "text": [
        "\r",
        "Progress: [###-----------------------------------------------] 6.0% "
       ]
      },
      {
       "output_type": "stream",
       "stream": "stdout",
       "text": [
        "\r",
        "Progress: [####----------------------------------------------] 7.0% "
       ]
      },
      {
       "output_type": "stream",
       "stream": "stdout",
       "text": [
        "\r",
        "Progress: [####----------------------------------------------] 8.0% "
       ]
      },
      {
       "output_type": "stream",
       "stream": "stdout",
       "text": [
        "\r",
        "Progress: [#####---------------------------------------------] 9.0% "
       ]
      },
      {
       "output_type": "stream",
       "stream": "stdout",
       "text": [
        "\r",
        "Progress: [#####---------------------------------------------] 10.0% "
       ]
      },
      {
       "output_type": "stream",
       "stream": "stdout",
       "text": [
        "\r",
        "Progress: [######--------------------------------------------] 11.0% "
       ]
      },
      {
       "output_type": "stream",
       "stream": "stdout",
       "text": [
        "\r",
        "Progress: [######--------------------------------------------] 12.0% "
       ]
      },
      {
       "output_type": "stream",
       "stream": "stdout",
       "text": [
        "\r",
        "Progress: [#######-------------------------------------------] 13.0% "
       ]
      },
      {
       "output_type": "stream",
       "stream": "stdout",
       "text": [
        "\r",
        "Progress: [#######-------------------------------------------] 14.0% "
       ]
      },
      {
       "output_type": "stream",
       "stream": "stdout",
       "text": [
        "\r",
        "Progress: [########------------------------------------------] 15.0% "
       ]
      },
      {
       "output_type": "stream",
       "stream": "stdout",
       "text": [
        "\r",
        "Progress: [########------------------------------------------] 16.0% "
       ]
      },
      {
       "output_type": "stream",
       "stream": "stdout",
       "text": [
        "\r",
        "Progress: [#########-----------------------------------------] 17.0% "
       ]
      },
      {
       "output_type": "stream",
       "stream": "stdout",
       "text": [
        "\r",
        "Progress: [#########-----------------------------------------] 18.0% "
       ]
      },
      {
       "output_type": "stream",
       "stream": "stdout",
       "text": [
        "\r",
        "Progress: [##########----------------------------------------] 19.0% "
       ]
      },
      {
       "output_type": "stream",
       "stream": "stdout",
       "text": [
        "\r",
        "Progress: [##########----------------------------------------] 20.0% "
       ]
      },
      {
       "output_type": "stream",
       "stream": "stdout",
       "text": [
        "\r",
        "Progress: [###########---------------------------------------] 21.0% "
       ]
      },
      {
       "output_type": "stream",
       "stream": "stdout",
       "text": [
        "\r",
        "Progress: [###########---------------------------------------] 22.0% "
       ]
      },
      {
       "output_type": "stream",
       "stream": "stdout",
       "text": [
        "\r",
        "Progress: [############--------------------------------------] 23.0% "
       ]
      },
      {
       "output_type": "stream",
       "stream": "stdout",
       "text": [
        "\r",
        "Progress: [############--------------------------------------] 24.0% "
       ]
      },
      {
       "output_type": "stream",
       "stream": "stdout",
       "text": [
        "\r",
        "Progress: [#############-------------------------------------] 25.0% "
       ]
      },
      {
       "output_type": "stream",
       "stream": "stdout",
       "text": [
        "\r",
        "Progress: [#############-------------------------------------] 26.0% "
       ]
      },
      {
       "output_type": "stream",
       "stream": "stdout",
       "text": [
        "\r",
        "Progress: [##############------------------------------------] 27.0% "
       ]
      },
      {
       "output_type": "stream",
       "stream": "stdout",
       "text": [
        "\r",
        "Progress: [##############------------------------------------] 28.0% "
       ]
      },
      {
       "output_type": "stream",
       "stream": "stdout",
       "text": [
        "\r",
        "Progress: [##############------------------------------------] 29.0% "
       ]
      },
      {
       "output_type": "stream",
       "stream": "stdout",
       "text": [
        "\r",
        "Progress: [###############-----------------------------------] 30.0% "
       ]
      },
      {
       "output_type": "stream",
       "stream": "stdout",
       "text": [
        "\r",
        "Progress: [################----------------------------------] 31.0% "
       ]
      },
      {
       "output_type": "stream",
       "stream": "stdout",
       "text": [
        "\r",
        "Progress: [################----------------------------------] 32.0% "
       ]
      },
      {
       "output_type": "stream",
       "stream": "stdout",
       "text": [
        "\r",
        "Progress: [#################---------------------------------] 33.0% "
       ]
      },
      {
       "output_type": "stream",
       "stream": "stdout",
       "text": [
        "\r",
        "Progress: [#################---------------------------------] 34.0% "
       ]
      },
      {
       "output_type": "stream",
       "stream": "stdout",
       "text": [
        "\r",
        "Progress: [##################--------------------------------] 35.0% "
       ]
      },
      {
       "output_type": "stream",
       "stream": "stdout",
       "text": [
        "\r",
        "Progress: [##################--------------------------------] 36.0% "
       ]
      },
      {
       "output_type": "stream",
       "stream": "stdout",
       "text": [
        "\r",
        "Progress: [###################-------------------------------] 37.0% "
       ]
      },
      {
       "output_type": "stream",
       "stream": "stdout",
       "text": [
        "\r",
        "Progress: [###################-------------------------------] 38.0% "
       ]
      },
      {
       "output_type": "stream",
       "stream": "stdout",
       "text": [
        "\r",
        "Progress: [####################------------------------------] 39.0% "
       ]
      },
      {
       "output_type": "stream",
       "stream": "stdout",
       "text": [
        "\r",
        "Progress: [####################------------------------------] 40.0% "
       ]
      },
      {
       "output_type": "stream",
       "stream": "stdout",
       "text": [
        "\r",
        "Progress: [#####################-----------------------------] 41.0% "
       ]
      },
      {
       "output_type": "stream",
       "stream": "stdout",
       "text": [
        "\r",
        "Progress: [#####################-----------------------------] 42.0% "
       ]
      },
      {
       "output_type": "stream",
       "stream": "stdout",
       "text": [
        "\r",
        "Progress: [######################----------------------------] 43.0% "
       ]
      },
      {
       "output_type": "stream",
       "stream": "stdout",
       "text": [
        "\r",
        "Progress: [######################----------------------------] 44.0% "
       ]
      },
      {
       "output_type": "stream",
       "stream": "stdout",
       "text": [
        "\r",
        "Progress: [#######################---------------------------] 45.0% "
       ]
      },
      {
       "output_type": "stream",
       "stream": "stdout",
       "text": [
        "\r",
        "Progress: [#######################---------------------------] 46.0% "
       ]
      },
      {
       "output_type": "stream",
       "stream": "stdout",
       "text": [
        "\r",
        "Progress: [########################--------------------------] 47.0% "
       ]
      },
      {
       "output_type": "stream",
       "stream": "stdout",
       "text": [
        "\r",
        "Progress: [########################--------------------------] 48.0% "
       ]
      },
      {
       "output_type": "stream",
       "stream": "stdout",
       "text": [
        "\r",
        "Progress: [#########################-------------------------] 49.0% "
       ]
      },
      {
       "output_type": "stream",
       "stream": "stdout",
       "text": [
        "\r",
        "Progress: [#########################-------------------------] 50.0% "
       ]
      },
      {
       "output_type": "stream",
       "stream": "stdout",
       "text": [
        "\r",
        "Progress: [##########################------------------------] 51.0% "
       ]
      },
      {
       "output_type": "stream",
       "stream": "stdout",
       "text": [
        "\r",
        "Progress: [##########################------------------------] 52.0% "
       ]
      },
      {
       "output_type": "stream",
       "stream": "stdout",
       "text": [
        "\r",
        "Progress: [###########################-----------------------] 53.0% "
       ]
      },
      {
       "output_type": "stream",
       "stream": "stdout",
       "text": [
        "\r",
        "Progress: [###########################-----------------------] 54.0% "
       ]
      },
      {
       "output_type": "stream",
       "stream": "stdout",
       "text": [
        "\r",
        "Progress: [############################----------------------] 55.0% "
       ]
      },
      {
       "output_type": "stream",
       "stream": "stdout",
       "text": [
        "\r",
        "Progress: [############################----------------------] 56.0% "
       ]
      },
      {
       "output_type": "stream",
       "stream": "stdout",
       "text": [
        "\r",
        "Progress: [############################----------------------] 57.0% "
       ]
      },
      {
       "output_type": "stream",
       "stream": "stdout",
       "text": [
        "\r",
        "Progress: [#############################---------------------] 58.0% "
       ]
      },
      {
       "output_type": "stream",
       "stream": "stdout",
       "text": [
        "\r",
        "Progress: [##############################--------------------] 59.0% "
       ]
      },
      {
       "output_type": "stream",
       "stream": "stdout",
       "text": [
        "\r",
        "Progress: [##############################--------------------] 60.0% "
       ]
      },
      {
       "output_type": "stream",
       "stream": "stdout",
       "text": [
        "\r",
        "Progress: [###############################-------------------] 61.0% "
       ]
      },
      {
       "output_type": "stream",
       "stream": "stdout",
       "text": [
        "\r",
        "Progress: [###############################-------------------] 62.0% "
       ]
      },
      {
       "output_type": "stream",
       "stream": "stdout",
       "text": [
        "\r",
        "Progress: [################################------------------] 63.0% "
       ]
      },
      {
       "output_type": "stream",
       "stream": "stdout",
       "text": [
        "\r",
        "Progress: [################################------------------] 64.0% "
       ]
      },
      {
       "output_type": "stream",
       "stream": "stdout",
       "text": [
        "\r",
        "Progress: [#################################-----------------] 65.0% "
       ]
      },
      {
       "output_type": "stream",
       "stream": "stdout",
       "text": [
        "\r",
        "Progress: [#################################-----------------] 66.0% "
       ]
      },
      {
       "output_type": "stream",
       "stream": "stdout",
       "text": [
        "\r",
        "Progress: [##################################----------------] 67.0% "
       ]
      },
      {
       "output_type": "stream",
       "stream": "stdout",
       "text": [
        "\r",
        "Progress: [##################################----------------] 68.0% "
       ]
      },
      {
       "output_type": "stream",
       "stream": "stdout",
       "text": [
        "\r",
        "Progress: [###################################---------------] 69.0% "
       ]
      },
      {
       "output_type": "stream",
       "stream": "stdout",
       "text": [
        "\r",
        "Progress: [###################################---------------] 70.0% "
       ]
      },
      {
       "output_type": "stream",
       "stream": "stdout",
       "text": [
        "\r",
        "Progress: [####################################--------------] 71.0% "
       ]
      },
      {
       "output_type": "stream",
       "stream": "stdout",
       "text": [
        "\r",
        "Progress: [####################################--------------] 72.0% "
       ]
      },
      {
       "output_type": "stream",
       "stream": "stdout",
       "text": [
        "\r",
        "Progress: [#####################################-------------] 73.0% "
       ]
      },
      {
       "output_type": "stream",
       "stream": "stdout",
       "text": [
        "\r",
        "Progress: [#####################################-------------] 74.0% "
       ]
      },
      {
       "output_type": "stream",
       "stream": "stdout",
       "text": [
        "\r",
        "Progress: [######################################------------] 75.0% "
       ]
      },
      {
       "output_type": "stream",
       "stream": "stdout",
       "text": [
        "\r",
        "Progress: [######################################------------] 76.0% "
       ]
      },
      {
       "output_type": "stream",
       "stream": "stdout",
       "text": [
        "\r",
        "Progress: [#######################################-----------] 77.0% "
       ]
      },
      {
       "output_type": "stream",
       "stream": "stdout",
       "text": [
        "\r",
        "Progress: [#######################################-----------] 78.0% "
       ]
      },
      {
       "output_type": "stream",
       "stream": "stdout",
       "text": [
        "\r",
        "Progress: [########################################----------] 79.0% "
       ]
      },
      {
       "output_type": "stream",
       "stream": "stdout",
       "text": [
        "\r",
        "Progress: [########################################----------] 80.0% "
       ]
      },
      {
       "output_type": "stream",
       "stream": "stdout",
       "text": [
        "\r",
        "Progress: [#########################################---------] 81.0% "
       ]
      },
      {
       "output_type": "stream",
       "stream": "stdout",
       "text": [
        "\r",
        "Progress: [#########################################---------] 82.0% "
       ]
      },
      {
       "output_type": "stream",
       "stream": "stdout",
       "text": [
        "\r",
        "Progress: [##########################################--------] 83.0% "
       ]
      },
      {
       "output_type": "stream",
       "stream": "stdout",
       "text": [
        "\r",
        "Progress: [##########################################--------] 84.0% "
       ]
      },
      {
       "output_type": "stream",
       "stream": "stdout",
       "text": [
        "\r",
        "Progress: [###########################################-------] 85.0% "
       ]
      },
      {
       "output_type": "stream",
       "stream": "stdout",
       "text": [
        "\r",
        "Progress: [###########################################-------] 86.0% "
       ]
      },
      {
       "output_type": "stream",
       "stream": "stdout",
       "text": [
        "\r",
        "Progress: [############################################------] 87.0% "
       ]
      },
      {
       "output_type": "stream",
       "stream": "stdout",
       "text": [
        "\r",
        "Progress: [############################################------] 88.0% "
       ]
      },
      {
       "output_type": "stream",
       "stream": "stdout",
       "text": [
        "\r",
        "Progress: [#############################################-----] 89.0% "
       ]
      },
      {
       "output_type": "stream",
       "stream": "stdout",
       "text": [
        "\r",
        "Progress: [#############################################-----] 90.0% "
       ]
      },
      {
       "output_type": "stream",
       "stream": "stdout",
       "text": [
        "\r",
        "Progress: [##############################################----] 91.0% "
       ]
      },
      {
       "output_type": "stream",
       "stream": "stdout",
       "text": [
        "\r",
        "Progress: [##############################################----] 92.0% "
       ]
      },
      {
       "output_type": "stream",
       "stream": "stdout",
       "text": [
        "\r",
        "Progress: [###############################################---] 93.0% "
       ]
      },
      {
       "output_type": "stream",
       "stream": "stdout",
       "text": [
        "\r",
        "Progress: [###############################################---] 94.0% "
       ]
      },
      {
       "output_type": "stream",
       "stream": "stdout",
       "text": [
        "\r",
        "Progress: [################################################--] 95.0% "
       ]
      },
      {
       "output_type": "stream",
       "stream": "stdout",
       "text": [
        "\r",
        "Progress: [################################################--] 96.0% "
       ]
      },
      {
       "output_type": "stream",
       "stream": "stdout",
       "text": [
        "\r",
        "Progress: [#################################################-] 97.0% "
       ]
      },
      {
       "output_type": "stream",
       "stream": "stdout",
       "text": [
        "\r",
        "Progress: [#################################################-] 98.0% "
       ]
      },
      {
       "output_type": "stream",
       "stream": "stdout",
       "text": [
        "\r",
        "Progress: [##################################################] 99.0% "
       ]
      },
      {
       "output_type": "stream",
       "stream": "stdout",
       "text": [
        "\r",
        "Progress: [##################################################] 100.0% Done...\r\n"
       ]
      },
      {
       "output_type": "stream",
       "stream": "stdout",
       "text": [
        "Wall Time taken:  0.0385601520538\n",
        "\n",
        "\n",
        " - - - - - - - - - - - - - - -   Epoch  6  - - - - - - - - - - - - - - -\n",
        "Training ...\n",
        "\r",
        "Progress: [--------------------------------------------------] 0.0% "
       ]
      },
      {
       "output_type": "stream",
       "stream": "stdout",
       "text": [
        "\r",
        "Progress: [#-------------------------------------------------] 1.0% "
       ]
      },
      {
       "output_type": "stream",
       "stream": "stdout",
       "text": [
        "\r",
        "Progress: [#-------------------------------------------------] 2.0% "
       ]
      },
      {
       "output_type": "stream",
       "stream": "stdout",
       "text": [
        "\r",
        "Progress: [##------------------------------------------------] 3.0% "
       ]
      },
      {
       "output_type": "stream",
       "stream": "stdout",
       "text": [
        "\r",
        "Progress: [##------------------------------------------------] 4.0% "
       ]
      },
      {
       "output_type": "stream",
       "stream": "stdout",
       "text": [
        "\r",
        "Progress: [###-----------------------------------------------] 5.0% "
       ]
      },
      {
       "output_type": "stream",
       "stream": "stdout",
       "text": [
        "\r",
        "Progress: [###-----------------------------------------------] 6.0% "
       ]
      },
      {
       "output_type": "stream",
       "stream": "stdout",
       "text": [
        "\r",
        "Progress: [####----------------------------------------------] 7.0% "
       ]
      },
      {
       "output_type": "stream",
       "stream": "stdout",
       "text": [
        "\r",
        "Progress: [####----------------------------------------------] 8.0% "
       ]
      },
      {
       "output_type": "stream",
       "stream": "stdout",
       "text": [
        "\r",
        "Progress: [#####---------------------------------------------] 9.0% "
       ]
      },
      {
       "output_type": "stream",
       "stream": "stdout",
       "text": [
        "\r",
        "Progress: [#####---------------------------------------------] 10.0% "
       ]
      },
      {
       "output_type": "stream",
       "stream": "stdout",
       "text": [
        "\r",
        "Progress: [######--------------------------------------------] 11.0% "
       ]
      },
      {
       "output_type": "stream",
       "stream": "stdout",
       "text": [
        "\r",
        "Progress: [######--------------------------------------------] 12.0% "
       ]
      },
      {
       "output_type": "stream",
       "stream": "stdout",
       "text": [
        "\r",
        "Progress: [#######-------------------------------------------] 13.0% "
       ]
      },
      {
       "output_type": "stream",
       "stream": "stdout",
       "text": [
        "\r",
        "Progress: [#######-------------------------------------------] 14.0% "
       ]
      },
      {
       "output_type": "stream",
       "stream": "stdout",
       "text": [
        "\r",
        "Progress: [########------------------------------------------] 15.0% "
       ]
      },
      {
       "output_type": "stream",
       "stream": "stdout",
       "text": [
        "\r",
        "Progress: [########------------------------------------------] 16.0% "
       ]
      },
      {
       "output_type": "stream",
       "stream": "stdout",
       "text": [
        "\r",
        "Progress: [#########-----------------------------------------] 17.0% "
       ]
      },
      {
       "output_type": "stream",
       "stream": "stdout",
       "text": [
        "\r",
        "Progress: [#########-----------------------------------------] 18.0% "
       ]
      },
      {
       "output_type": "stream",
       "stream": "stdout",
       "text": [
        "\r",
        "Progress: [##########----------------------------------------] 19.0% "
       ]
      },
      {
       "output_type": "stream",
       "stream": "stdout",
       "text": [
        "\r",
        "Progress: [##########----------------------------------------] 20.0% "
       ]
      },
      {
       "output_type": "stream",
       "stream": "stdout",
       "text": [
        "\r",
        "Progress: [###########---------------------------------------] 21.0% "
       ]
      },
      {
       "output_type": "stream",
       "stream": "stdout",
       "text": [
        "\r",
        "Progress: [###########---------------------------------------] 22.0% "
       ]
      },
      {
       "output_type": "stream",
       "stream": "stdout",
       "text": [
        "\r",
        "Progress: [############--------------------------------------] 23.0% "
       ]
      },
      {
       "output_type": "stream",
       "stream": "stdout",
       "text": [
        "\r",
        "Progress: [############--------------------------------------] 24.0% "
       ]
      },
      {
       "output_type": "stream",
       "stream": "stdout",
       "text": [
        "\r",
        "Progress: [#############-------------------------------------] 25.0% "
       ]
      },
      {
       "output_type": "stream",
       "stream": "stdout",
       "text": [
        "\r",
        "Progress: [#############-------------------------------------] 26.0% "
       ]
      },
      {
       "output_type": "stream",
       "stream": "stdout",
       "text": [
        "\r",
        "Progress: [##############------------------------------------] 27.0% "
       ]
      },
      {
       "output_type": "stream",
       "stream": "stdout",
       "text": [
        "\r",
        "Progress: [##############------------------------------------] 28.0% "
       ]
      },
      {
       "output_type": "stream",
       "stream": "stdout",
       "text": [
        "\r",
        "Progress: [##############------------------------------------] 29.0% "
       ]
      },
      {
       "output_type": "stream",
       "stream": "stdout",
       "text": [
        "\r",
        "Progress: [###############-----------------------------------] 30.0% "
       ]
      },
      {
       "output_type": "stream",
       "stream": "stdout",
       "text": [
        "\r",
        "Progress: [################----------------------------------] 31.0% "
       ]
      },
      {
       "output_type": "stream",
       "stream": "stdout",
       "text": [
        "\r",
        "Progress: [################----------------------------------] 32.0% "
       ]
      },
      {
       "output_type": "stream",
       "stream": "stdout",
       "text": [
        "\r",
        "Progress: [#################---------------------------------] 33.0% "
       ]
      },
      {
       "output_type": "stream",
       "stream": "stdout",
       "text": [
        "\r",
        "Progress: [#################---------------------------------] 34.0% "
       ]
      },
      {
       "output_type": "stream",
       "stream": "stdout",
       "text": [
        "\r",
        "Progress: [##################--------------------------------] 35.0% "
       ]
      },
      {
       "output_type": "stream",
       "stream": "stdout",
       "text": [
        "\r",
        "Progress: [##################--------------------------------] 36.0% "
       ]
      },
      {
       "output_type": "stream",
       "stream": "stdout",
       "text": [
        "\r",
        "Progress: [###################-------------------------------] 37.0% "
       ]
      },
      {
       "output_type": "stream",
       "stream": "stdout",
       "text": [
        "\r",
        "Progress: [###################-------------------------------] 38.0% "
       ]
      },
      {
       "output_type": "stream",
       "stream": "stdout",
       "text": [
        "\r",
        "Progress: [####################------------------------------] 39.0% "
       ]
      },
      {
       "output_type": "stream",
       "stream": "stdout",
       "text": [
        "\r",
        "Progress: [####################------------------------------] 40.0% "
       ]
      },
      {
       "output_type": "stream",
       "stream": "stdout",
       "text": [
        "\r",
        "Progress: [#####################-----------------------------] 41.0% "
       ]
      },
      {
       "output_type": "stream",
       "stream": "stdout",
       "text": [
        "\r",
        "Progress: [#####################-----------------------------] 42.0% "
       ]
      },
      {
       "output_type": "stream",
       "stream": "stdout",
       "text": [
        "\r",
        "Progress: [######################----------------------------] 43.0% "
       ]
      },
      {
       "output_type": "stream",
       "stream": "stdout",
       "text": [
        "\r",
        "Progress: [######################----------------------------] 44.0% "
       ]
      },
      {
       "output_type": "stream",
       "stream": "stdout",
       "text": [
        "\r",
        "Progress: [#######################---------------------------] 45.0% "
       ]
      },
      {
       "output_type": "stream",
       "stream": "stdout",
       "text": [
        "\r",
        "Progress: [#######################---------------------------] 46.0% "
       ]
      },
      {
       "output_type": "stream",
       "stream": "stdout",
       "text": [
        "\r",
        "Progress: [########################--------------------------] 47.0% "
       ]
      },
      {
       "output_type": "stream",
       "stream": "stdout",
       "text": [
        "\r",
        "Progress: [########################--------------------------] 48.0% "
       ]
      },
      {
       "output_type": "stream",
       "stream": "stdout",
       "text": [
        "\r",
        "Progress: [#########################-------------------------] 49.0% "
       ]
      },
      {
       "output_type": "stream",
       "stream": "stdout",
       "text": [
        "\r",
        "Progress: [#########################-------------------------] 50.0% "
       ]
      },
      {
       "output_type": "stream",
       "stream": "stdout",
       "text": [
        "\r",
        "Progress: [##########################------------------------] 51.0% "
       ]
      },
      {
       "output_type": "stream",
       "stream": "stdout",
       "text": [
        "\r",
        "Progress: [##########################------------------------] 52.0% "
       ]
      },
      {
       "output_type": "stream",
       "stream": "stdout",
       "text": [
        "\r",
        "Progress: [###########################-----------------------] 53.0% "
       ]
      },
      {
       "output_type": "stream",
       "stream": "stdout",
       "text": [
        "\r",
        "Progress: [###########################-----------------------] 54.0% "
       ]
      },
      {
       "output_type": "stream",
       "stream": "stdout",
       "text": [
        "\r",
        "Progress: [############################----------------------] 55.0% "
       ]
      },
      {
       "output_type": "stream",
       "stream": "stdout",
       "text": [
        "\r",
        "Progress: [############################----------------------] 56.0% "
       ]
      },
      {
       "output_type": "stream",
       "stream": "stdout",
       "text": [
        "\r",
        "Progress: [############################----------------------] 57.0% "
       ]
      },
      {
       "output_type": "stream",
       "stream": "stdout",
       "text": [
        "\r",
        "Progress: [#############################---------------------] 58.0% "
       ]
      },
      {
       "output_type": "stream",
       "stream": "stdout",
       "text": [
        "\r",
        "Progress: [##############################--------------------] 59.0% "
       ]
      },
      {
       "output_type": "stream",
       "stream": "stdout",
       "text": [
        "\r",
        "Progress: [##############################--------------------] 60.0% "
       ]
      },
      {
       "output_type": "stream",
       "stream": "stdout",
       "text": [
        "\r",
        "Progress: [###############################-------------------] 61.0% "
       ]
      },
      {
       "output_type": "stream",
       "stream": "stdout",
       "text": [
        "\r",
        "Progress: [###############################-------------------] 62.0% "
       ]
      },
      {
       "output_type": "stream",
       "stream": "stdout",
       "text": [
        "\r",
        "Progress: [################################------------------] 63.0% "
       ]
      },
      {
       "output_type": "stream",
       "stream": "stdout",
       "text": [
        "\r",
        "Progress: [################################------------------] 64.0% "
       ]
      },
      {
       "output_type": "stream",
       "stream": "stdout",
       "text": [
        "\r",
        "Progress: [#################################-----------------] 65.0% "
       ]
      },
      {
       "output_type": "stream",
       "stream": "stdout",
       "text": [
        "\r",
        "Progress: [#################################-----------------] 66.0% "
       ]
      },
      {
       "output_type": "stream",
       "stream": "stdout",
       "text": [
        "\r",
        "Progress: [##################################----------------] 67.0% "
       ]
      },
      {
       "output_type": "stream",
       "stream": "stdout",
       "text": [
        "\r",
        "Progress: [##################################----------------] 68.0% "
       ]
      },
      {
       "output_type": "stream",
       "stream": "stdout",
       "text": [
        "\r",
        "Progress: [###################################---------------] 69.0% "
       ]
      },
      {
       "output_type": "stream",
       "stream": "stdout",
       "text": [
        "\r",
        "Progress: [###################################---------------] 70.0% "
       ]
      },
      {
       "output_type": "stream",
       "stream": "stdout",
       "text": [
        "\r",
        "Progress: [####################################--------------] 71.0% "
       ]
      },
      {
       "output_type": "stream",
       "stream": "stdout",
       "text": [
        "\r",
        "Progress: [####################################--------------] 72.0% "
       ]
      },
      {
       "output_type": "stream",
       "stream": "stdout",
       "text": [
        "\r",
        "Progress: [#####################################-------------] 73.0% "
       ]
      },
      {
       "output_type": "stream",
       "stream": "stdout",
       "text": [
        "\r",
        "Progress: [#####################################-------------] 74.0% "
       ]
      },
      {
       "output_type": "stream",
       "stream": "stdout",
       "text": [
        "\r",
        "Progress: [######################################------------] 75.0% "
       ]
      },
      {
       "output_type": "stream",
       "stream": "stdout",
       "text": [
        "\r",
        "Progress: [######################################------------] 76.0% "
       ]
      },
      {
       "output_type": "stream",
       "stream": "stdout",
       "text": [
        "\r",
        "Progress: [#######################################-----------] 77.0% "
       ]
      },
      {
       "output_type": "stream",
       "stream": "stdout",
       "text": [
        "\r",
        "Progress: [#######################################-----------] 78.0% "
       ]
      },
      {
       "output_type": "stream",
       "stream": "stdout",
       "text": [
        "\r",
        "Progress: [########################################----------] 79.0% "
       ]
      },
      {
       "output_type": "stream",
       "stream": "stdout",
       "text": [
        "\r",
        "Progress: [########################################----------] 80.0% "
       ]
      },
      {
       "output_type": "stream",
       "stream": "stdout",
       "text": [
        "\r",
        "Progress: [#########################################---------] 81.0% "
       ]
      },
      {
       "output_type": "stream",
       "stream": "stdout",
       "text": [
        "\r",
        "Progress: [#########################################---------] 82.0% "
       ]
      },
      {
       "output_type": "stream",
       "stream": "stdout",
       "text": [
        "\r",
        "Progress: [##########################################--------] 83.0% "
       ]
      },
      {
       "output_type": "stream",
       "stream": "stdout",
       "text": [
        "\r",
        "Progress: [##########################################--------] 84.0% "
       ]
      },
      {
       "output_type": "stream",
       "stream": "stdout",
       "text": [
        "\r",
        "Progress: [###########################################-------] 85.0% "
       ]
      },
      {
       "output_type": "stream",
       "stream": "stdout",
       "text": [
        "\r",
        "Progress: [###########################################-------] 86.0% "
       ]
      },
      {
       "output_type": "stream",
       "stream": "stdout",
       "text": [
        "\r",
        "Progress: [############################################------] 87.0% "
       ]
      },
      {
       "output_type": "stream",
       "stream": "stdout",
       "text": [
        "\r",
        "Progress: [############################################------] 88.0% "
       ]
      },
      {
       "output_type": "stream",
       "stream": "stdout",
       "text": [
        "\r",
        "Progress: [#############################################-----] 89.0% "
       ]
      },
      {
       "output_type": "stream",
       "stream": "stdout",
       "text": [
        "\r",
        "Progress: [#############################################-----] 90.0% "
       ]
      },
      {
       "output_type": "stream",
       "stream": "stdout",
       "text": [
        "\r",
        "Progress: [##############################################----] 91.0% "
       ]
      },
      {
       "output_type": "stream",
       "stream": "stdout",
       "text": [
        "\r",
        "Progress: [##############################################----] 92.0% "
       ]
      },
      {
       "output_type": "stream",
       "stream": "stdout",
       "text": [
        "\r",
        "Progress: [###############################################---] 93.0% "
       ]
      },
      {
       "output_type": "stream",
       "stream": "stdout",
       "text": [
        "\r",
        "Progress: [###############################################---] 94.0% "
       ]
      },
      {
       "output_type": "stream",
       "stream": "stdout",
       "text": [
        "\r",
        "Progress: [################################################--] 95.0% "
       ]
      },
      {
       "output_type": "stream",
       "stream": "stdout",
       "text": [
        "\r",
        "Progress: [################################################--] 96.0% "
       ]
      },
      {
       "output_type": "stream",
       "stream": "stdout",
       "text": [
        "\r",
        "Progress: [#################################################-] 97.0% "
       ]
      },
      {
       "output_type": "stream",
       "stream": "stdout",
       "text": [
        "\r",
        "Progress: [#################################################-] 98.0% "
       ]
      },
      {
       "output_type": "stream",
       "stream": "stdout",
       "text": [
        "\r",
        "Progress: [##################################################] 99.0% "
       ]
      },
      {
       "output_type": "stream",
       "stream": "stdout",
       "text": [
        "\r",
        "Progress: [##################################################] 100.0% Done...\r\n"
       ]
      },
      {
       "output_type": "stream",
       "stream": "stdout",
       "text": [
        "Wall Time taken:  0.0390281677246\n",
        "\n",
        "\n",
        " - - - - - - - - - - - - - - -   Epoch  7  - - - - - - - - - - - - - - -\n",
        "Training ...\n",
        "\r",
        "Progress: [--------------------------------------------------] 0.0% "
       ]
      },
      {
       "output_type": "stream",
       "stream": "stdout",
       "text": [
        "\r",
        "Progress: [#-------------------------------------------------] 1.0% "
       ]
      },
      {
       "output_type": "stream",
       "stream": "stdout",
       "text": [
        "\r",
        "Progress: [#-------------------------------------------------] 2.0% "
       ]
      },
      {
       "output_type": "stream",
       "stream": "stdout",
       "text": [
        "\r",
        "Progress: [##------------------------------------------------] 3.0% "
       ]
      },
      {
       "output_type": "stream",
       "stream": "stdout",
       "text": [
        "\r",
        "Progress: [##------------------------------------------------] 4.0% "
       ]
      },
      {
       "output_type": "stream",
       "stream": "stdout",
       "text": [
        "\r",
        "Progress: [###-----------------------------------------------] 5.0% "
       ]
      },
      {
       "output_type": "stream",
       "stream": "stdout",
       "text": [
        "\r",
        "Progress: [###-----------------------------------------------] 6.0% "
       ]
      },
      {
       "output_type": "stream",
       "stream": "stdout",
       "text": [
        "\r",
        "Progress: [####----------------------------------------------] 7.0% "
       ]
      },
      {
       "output_type": "stream",
       "stream": "stdout",
       "text": [
        "\r",
        "Progress: [####----------------------------------------------] 8.0% "
       ]
      },
      {
       "output_type": "stream",
       "stream": "stdout",
       "text": [
        "\r",
        "Progress: [#####---------------------------------------------] 9.0% "
       ]
      },
      {
       "output_type": "stream",
       "stream": "stdout",
       "text": [
        "\r",
        "Progress: [#####---------------------------------------------] 10.0% "
       ]
      },
      {
       "output_type": "stream",
       "stream": "stdout",
       "text": [
        "\r",
        "Progress: [######--------------------------------------------] 11.0% "
       ]
      },
      {
       "output_type": "stream",
       "stream": "stdout",
       "text": [
        "\r",
        "Progress: [######--------------------------------------------] 12.0% "
       ]
      },
      {
       "output_type": "stream",
       "stream": "stdout",
       "text": [
        "\r",
        "Progress: [#######-------------------------------------------] 13.0% "
       ]
      },
      {
       "output_type": "stream",
       "stream": "stdout",
       "text": [
        "\r",
        "Progress: [#######-------------------------------------------] 14.0% "
       ]
      },
      {
       "output_type": "stream",
       "stream": "stdout",
       "text": [
        "\r",
        "Progress: [########------------------------------------------] 15.0% "
       ]
      },
      {
       "output_type": "stream",
       "stream": "stdout",
       "text": [
        "\r",
        "Progress: [########------------------------------------------] 16.0% "
       ]
      },
      {
       "output_type": "stream",
       "stream": "stdout",
       "text": [
        "\r",
        "Progress: [#########-----------------------------------------] 17.0% "
       ]
      },
      {
       "output_type": "stream",
       "stream": "stdout",
       "text": [
        "\r",
        "Progress: [#########-----------------------------------------] 18.0% "
       ]
      },
      {
       "output_type": "stream",
       "stream": "stdout",
       "text": [
        "\r",
        "Progress: [##########----------------------------------------] 19.0% "
       ]
      },
      {
       "output_type": "stream",
       "stream": "stdout",
       "text": [
        "\r",
        "Progress: [##########----------------------------------------] 20.0% "
       ]
      },
      {
       "output_type": "stream",
       "stream": "stdout",
       "text": [
        "\r",
        "Progress: [###########---------------------------------------] 21.0% "
       ]
      },
      {
       "output_type": "stream",
       "stream": "stdout",
       "text": [
        "\r",
        "Progress: [###########---------------------------------------] 22.0% "
       ]
      },
      {
       "output_type": "stream",
       "stream": "stdout",
       "text": [
        "\r",
        "Progress: [############--------------------------------------] 23.0% "
       ]
      },
      {
       "output_type": "stream",
       "stream": "stdout",
       "text": [
        "\r",
        "Progress: [############--------------------------------------] 24.0% "
       ]
      },
      {
       "output_type": "stream",
       "stream": "stdout",
       "text": [
        "\r",
        "Progress: [#############-------------------------------------] 25.0% "
       ]
      },
      {
       "output_type": "stream",
       "stream": "stdout",
       "text": [
        "\r",
        "Progress: [#############-------------------------------------] 26.0% "
       ]
      },
      {
       "output_type": "stream",
       "stream": "stdout",
       "text": [
        "\r",
        "Progress: [##############------------------------------------] 27.0% "
       ]
      },
      {
       "output_type": "stream",
       "stream": "stdout",
       "text": [
        "\r",
        "Progress: [##############------------------------------------] 28.0% "
       ]
      },
      {
       "output_type": "stream",
       "stream": "stdout",
       "text": [
        "\r",
        "Progress: [##############------------------------------------] 29.0% "
       ]
      },
      {
       "output_type": "stream",
       "stream": "stdout",
       "text": [
        "\r",
        "Progress: [###############-----------------------------------] 30.0% "
       ]
      },
      {
       "output_type": "stream",
       "stream": "stdout",
       "text": [
        "\r",
        "Progress: [################----------------------------------] 31.0% "
       ]
      },
      {
       "output_type": "stream",
       "stream": "stdout",
       "text": [
        "\r",
        "Progress: [################----------------------------------] 32.0% "
       ]
      },
      {
       "output_type": "stream",
       "stream": "stdout",
       "text": [
        "\r",
        "Progress: [#################---------------------------------] 33.0% "
       ]
      },
      {
       "output_type": "stream",
       "stream": "stdout",
       "text": [
        "\r",
        "Progress: [#################---------------------------------] 34.0% "
       ]
      },
      {
       "output_type": "stream",
       "stream": "stdout",
       "text": [
        "\r",
        "Progress: [##################--------------------------------] 35.0% "
       ]
      },
      {
       "output_type": "stream",
       "stream": "stdout",
       "text": [
        "\r",
        "Progress: [##################--------------------------------] 36.0% "
       ]
      },
      {
       "output_type": "stream",
       "stream": "stdout",
       "text": [
        "\r",
        "Progress: [###################-------------------------------] 37.0% "
       ]
      },
      {
       "output_type": "stream",
       "stream": "stdout",
       "text": [
        "\r",
        "Progress: [###################-------------------------------] 38.0% "
       ]
      },
      {
       "output_type": "stream",
       "stream": "stdout",
       "text": [
        "\r",
        "Progress: [####################------------------------------] 39.0% "
       ]
      },
      {
       "output_type": "stream",
       "stream": "stdout",
       "text": [
        "\r",
        "Progress: [####################------------------------------] 40.0% "
       ]
      },
      {
       "output_type": "stream",
       "stream": "stdout",
       "text": [
        "\r",
        "Progress: [#####################-----------------------------] 41.0% "
       ]
      },
      {
       "output_type": "stream",
       "stream": "stdout",
       "text": [
        "\r",
        "Progress: [#####################-----------------------------] 42.0% "
       ]
      },
      {
       "output_type": "stream",
       "stream": "stdout",
       "text": [
        "\r",
        "Progress: [######################----------------------------] 43.0% "
       ]
      },
      {
       "output_type": "stream",
       "stream": "stdout",
       "text": [
        "\r",
        "Progress: [######################----------------------------] 44.0% "
       ]
      },
      {
       "output_type": "stream",
       "stream": "stdout",
       "text": [
        "\r",
        "Progress: [#######################---------------------------] 45.0% "
       ]
      },
      {
       "output_type": "stream",
       "stream": "stdout",
       "text": [
        "\r",
        "Progress: [#######################---------------------------] 46.0% "
       ]
      },
      {
       "output_type": "stream",
       "stream": "stdout",
       "text": [
        "\r",
        "Progress: [########################--------------------------] 47.0% "
       ]
      },
      {
       "output_type": "stream",
       "stream": "stdout",
       "text": [
        "\r",
        "Progress: [########################--------------------------] 48.0% "
       ]
      },
      {
       "output_type": "stream",
       "stream": "stdout",
       "text": [
        "\r",
        "Progress: [#########################-------------------------] 49.0% "
       ]
      },
      {
       "output_type": "stream",
       "stream": "stdout",
       "text": [
        "\r",
        "Progress: [#########################-------------------------] 50.0% "
       ]
      },
      {
       "output_type": "stream",
       "stream": "stdout",
       "text": [
        "\r",
        "Progress: [##########################------------------------] 51.0% "
       ]
      },
      {
       "output_type": "stream",
       "stream": "stdout",
       "text": [
        "\r",
        "Progress: [##########################------------------------] 52.0% "
       ]
      },
      {
       "output_type": "stream",
       "stream": "stdout",
       "text": [
        "\r",
        "Progress: [###########################-----------------------] 53.0% "
       ]
      },
      {
       "output_type": "stream",
       "stream": "stdout",
       "text": [
        "\r",
        "Progress: [###########################-----------------------] 54.0% "
       ]
      },
      {
       "output_type": "stream",
       "stream": "stdout",
       "text": [
        "\r",
        "Progress: [############################----------------------] 55.0% "
       ]
      },
      {
       "output_type": "stream",
       "stream": "stdout",
       "text": [
        "\r",
        "Progress: [############################----------------------] 56.0% "
       ]
      },
      {
       "output_type": "stream",
       "stream": "stdout",
       "text": [
        "\r",
        "Progress: [############################----------------------] 57.0% "
       ]
      },
      {
       "output_type": "stream",
       "stream": "stdout",
       "text": [
        "\r",
        "Progress: [#############################---------------------] 58.0% "
       ]
      },
      {
       "output_type": "stream",
       "stream": "stdout",
       "text": [
        "\r",
        "Progress: [##############################--------------------] 59.0% "
       ]
      },
      {
       "output_type": "stream",
       "stream": "stdout",
       "text": [
        "\r",
        "Progress: [##############################--------------------] 60.0% "
       ]
      },
      {
       "output_type": "stream",
       "stream": "stdout",
       "text": [
        "\r",
        "Progress: [###############################-------------------] 61.0% "
       ]
      },
      {
       "output_type": "stream",
       "stream": "stdout",
       "text": [
        "\r",
        "Progress: [###############################-------------------] 62.0% "
       ]
      },
      {
       "output_type": "stream",
       "stream": "stdout",
       "text": [
        "\r",
        "Progress: [################################------------------] 63.0% "
       ]
      },
      {
       "output_type": "stream",
       "stream": "stdout",
       "text": [
        "\r",
        "Progress: [################################------------------] 64.0% "
       ]
      },
      {
       "output_type": "stream",
       "stream": "stdout",
       "text": [
        "\r",
        "Progress: [#################################-----------------] 65.0% "
       ]
      },
      {
       "output_type": "stream",
       "stream": "stdout",
       "text": [
        "\r",
        "Progress: [#################################-----------------] 66.0% "
       ]
      },
      {
       "output_type": "stream",
       "stream": "stdout",
       "text": [
        "\r",
        "Progress: [##################################----------------] 67.0% "
       ]
      },
      {
       "output_type": "stream",
       "stream": "stdout",
       "text": [
        "\r",
        "Progress: [##################################----------------] 68.0% "
       ]
      },
      {
       "output_type": "stream",
       "stream": "stdout",
       "text": [
        "\r",
        "Progress: [###################################---------------] 69.0% "
       ]
      },
      {
       "output_type": "stream",
       "stream": "stdout",
       "text": [
        "\r",
        "Progress: [###################################---------------] 70.0% "
       ]
      },
      {
       "output_type": "stream",
       "stream": "stdout",
       "text": [
        "\r",
        "Progress: [####################################--------------] 71.0% "
       ]
      },
      {
       "output_type": "stream",
       "stream": "stdout",
       "text": [
        "\r",
        "Progress: [####################################--------------] 72.0% "
       ]
      },
      {
       "output_type": "stream",
       "stream": "stdout",
       "text": [
        "\r",
        "Progress: [#####################################-------------] 73.0% "
       ]
      },
      {
       "output_type": "stream",
       "stream": "stdout",
       "text": [
        "\r",
        "Progress: [#####################################-------------] 74.0% "
       ]
      },
      {
       "output_type": "stream",
       "stream": "stdout",
       "text": [
        "\r",
        "Progress: [######################################------------] 75.0% "
       ]
      },
      {
       "output_type": "stream",
       "stream": "stdout",
       "text": [
        "\r",
        "Progress: [######################################------------] 76.0% "
       ]
      },
      {
       "output_type": "stream",
       "stream": "stdout",
       "text": [
        "\r",
        "Progress: [#######################################-----------] 77.0% "
       ]
      },
      {
       "output_type": "stream",
       "stream": "stdout",
       "text": [
        "\r",
        "Progress: [#######################################-----------] 78.0% "
       ]
      },
      {
       "output_type": "stream",
       "stream": "stdout",
       "text": [
        "\r",
        "Progress: [########################################----------] 79.0% "
       ]
      },
      {
       "output_type": "stream",
       "stream": "stdout",
       "text": [
        "\r",
        "Progress: [########################################----------] 80.0% "
       ]
      },
      {
       "output_type": "stream",
       "stream": "stdout",
       "text": [
        "\r",
        "Progress: [#########################################---------] 81.0% "
       ]
      },
      {
       "output_type": "stream",
       "stream": "stdout",
       "text": [
        "\r",
        "Progress: [#########################################---------] 82.0% "
       ]
      },
      {
       "output_type": "stream",
       "stream": "stdout",
       "text": [
        "\r",
        "Progress: [##########################################--------] 83.0% "
       ]
      },
      {
       "output_type": "stream",
       "stream": "stdout",
       "text": [
        "\r",
        "Progress: [##########################################--------] 84.0% "
       ]
      },
      {
       "output_type": "stream",
       "stream": "stdout",
       "text": [
        "\r",
        "Progress: [###########################################-------] 85.0% "
       ]
      },
      {
       "output_type": "stream",
       "stream": "stdout",
       "text": [
        "\r",
        "Progress: [###########################################-------] 86.0% "
       ]
      },
      {
       "output_type": "stream",
       "stream": "stdout",
       "text": [
        "\r",
        "Progress: [############################################------] 87.0% "
       ]
      },
      {
       "output_type": "stream",
       "stream": "stdout",
       "text": [
        "\r",
        "Progress: [############################################------] 88.0% "
       ]
      },
      {
       "output_type": "stream",
       "stream": "stdout",
       "text": [
        "\r",
        "Progress: [#############################################-----] 89.0% "
       ]
      },
      {
       "output_type": "stream",
       "stream": "stdout",
       "text": [
        "\r",
        "Progress: [#############################################-----] 90.0% "
       ]
      },
      {
       "output_type": "stream",
       "stream": "stdout",
       "text": [
        "\r",
        "Progress: [##############################################----] 91.0% "
       ]
      },
      {
       "output_type": "stream",
       "stream": "stdout",
       "text": [
        "\r",
        "Progress: [##############################################----] 92.0% "
       ]
      },
      {
       "output_type": "stream",
       "stream": "stdout",
       "text": [
        "\r",
        "Progress: [###############################################---] 93.0% "
       ]
      },
      {
       "output_type": "stream",
       "stream": "stdout",
       "text": [
        "\r",
        "Progress: [###############################################---] 94.0% "
       ]
      },
      {
       "output_type": "stream",
       "stream": "stdout",
       "text": [
        "\r",
        "Progress: [################################################--] 95.0% "
       ]
      },
      {
       "output_type": "stream",
       "stream": "stdout",
       "text": [
        "\r",
        "Progress: [################################################--] 96.0% "
       ]
      },
      {
       "output_type": "stream",
       "stream": "stdout",
       "text": [
        "\r",
        "Progress: [#################################################-] 97.0% "
       ]
      },
      {
       "output_type": "stream",
       "stream": "stdout",
       "text": [
        "\r",
        "Progress: [#################################################-] 98.0% "
       ]
      },
      {
       "output_type": "stream",
       "stream": "stdout",
       "text": [
        "\r",
        "Progress: [##################################################] 99.0% "
       ]
      },
      {
       "output_type": "stream",
       "stream": "stdout",
       "text": [
        "\r",
        "Progress: [##################################################] 100.0% Done...\r\n"
       ]
      },
      {
       "output_type": "stream",
       "stream": "stdout",
       "text": [
        "Wall Time taken:  0.0387370586395\n",
        "\n",
        "\n",
        " - - - - - - - - - - - - - - -   Epoch  8  - - - - - - - - - - - - - - -\n",
        "Training ...\n",
        "\r",
        "Progress: [--------------------------------------------------] 0.0% "
       ]
      },
      {
       "output_type": "stream",
       "stream": "stdout",
       "text": [
        "\r",
        "Progress: [#-------------------------------------------------] 1.0% "
       ]
      },
      {
       "output_type": "stream",
       "stream": "stdout",
       "text": [
        "\r",
        "Progress: [#-------------------------------------------------] 2.0% "
       ]
      },
      {
       "output_type": "stream",
       "stream": "stdout",
       "text": [
        "\r",
        "Progress: [##------------------------------------------------] 3.0% "
       ]
      },
      {
       "output_type": "stream",
       "stream": "stdout",
       "text": [
        "\r",
        "Progress: [##------------------------------------------------] 4.0% "
       ]
      },
      {
       "output_type": "stream",
       "stream": "stdout",
       "text": [
        "\r",
        "Progress: [###-----------------------------------------------] 5.0% "
       ]
      },
      {
       "output_type": "stream",
       "stream": "stdout",
       "text": [
        "\r",
        "Progress: [###-----------------------------------------------] 6.0% "
       ]
      },
      {
       "output_type": "stream",
       "stream": "stdout",
       "text": [
        "\r",
        "Progress: [####----------------------------------------------] 7.0% "
       ]
      },
      {
       "output_type": "stream",
       "stream": "stdout",
       "text": [
        "\r",
        "Progress: [####----------------------------------------------] 8.0% "
       ]
      },
      {
       "output_type": "stream",
       "stream": "stdout",
       "text": [
        "\r",
        "Progress: [#####---------------------------------------------] 9.0% "
       ]
      },
      {
       "output_type": "stream",
       "stream": "stdout",
       "text": [
        "\r",
        "Progress: [#####---------------------------------------------] 10.0% "
       ]
      },
      {
       "output_type": "stream",
       "stream": "stdout",
       "text": [
        "\r",
        "Progress: [######--------------------------------------------] 11.0% "
       ]
      },
      {
       "output_type": "stream",
       "stream": "stdout",
       "text": [
        "\r",
        "Progress: [######--------------------------------------------] 12.0% "
       ]
      },
      {
       "output_type": "stream",
       "stream": "stdout",
       "text": [
        "\r",
        "Progress: [#######-------------------------------------------] 13.0% "
       ]
      },
      {
       "output_type": "stream",
       "stream": "stdout",
       "text": [
        "\r",
        "Progress: [#######-------------------------------------------] 14.0% "
       ]
      },
      {
       "output_type": "stream",
       "stream": "stdout",
       "text": [
        "\r",
        "Progress: [########------------------------------------------] 15.0% "
       ]
      },
      {
       "output_type": "stream",
       "stream": "stdout",
       "text": [
        "\r",
        "Progress: [########------------------------------------------] 16.0% "
       ]
      },
      {
       "output_type": "stream",
       "stream": "stdout",
       "text": [
        "\r",
        "Progress: [#########-----------------------------------------] 17.0% "
       ]
      },
      {
       "output_type": "stream",
       "stream": "stdout",
       "text": [
        "\r",
        "Progress: [#########-----------------------------------------] 18.0% "
       ]
      },
      {
       "output_type": "stream",
       "stream": "stdout",
       "text": [
        "\r",
        "Progress: [##########----------------------------------------] 19.0% "
       ]
      },
      {
       "output_type": "stream",
       "stream": "stdout",
       "text": [
        "\r",
        "Progress: [##########----------------------------------------] 20.0% "
       ]
      },
      {
       "output_type": "stream",
       "stream": "stdout",
       "text": [
        "\r",
        "Progress: [###########---------------------------------------] 21.0% "
       ]
      },
      {
       "output_type": "stream",
       "stream": "stdout",
       "text": [
        "\r",
        "Progress: [###########---------------------------------------] 22.0% "
       ]
      },
      {
       "output_type": "stream",
       "stream": "stdout",
       "text": [
        "\r",
        "Progress: [############--------------------------------------] 23.0% "
       ]
      },
      {
       "output_type": "stream",
       "stream": "stdout",
       "text": [
        "\r",
        "Progress: [############--------------------------------------] 24.0% "
       ]
      },
      {
       "output_type": "stream",
       "stream": "stdout",
       "text": [
        "\r",
        "Progress: [#############-------------------------------------] 25.0% "
       ]
      },
      {
       "output_type": "stream",
       "stream": "stdout",
       "text": [
        "\r",
        "Progress: [#############-------------------------------------] 26.0% "
       ]
      },
      {
       "output_type": "stream",
       "stream": "stdout",
       "text": [
        "\r",
        "Progress: [##############------------------------------------] 27.0% "
       ]
      },
      {
       "output_type": "stream",
       "stream": "stdout",
       "text": [
        "\r",
        "Progress: [##############------------------------------------] 28.0% "
       ]
      },
      {
       "output_type": "stream",
       "stream": "stdout",
       "text": [
        "\r",
        "Progress: [##############------------------------------------] 29.0% "
       ]
      },
      {
       "output_type": "stream",
       "stream": "stdout",
       "text": [
        "\r",
        "Progress: [###############-----------------------------------] 30.0% "
       ]
      },
      {
       "output_type": "stream",
       "stream": "stdout",
       "text": [
        "\r",
        "Progress: [################----------------------------------] 31.0% "
       ]
      },
      {
       "output_type": "stream",
       "stream": "stdout",
       "text": [
        "\r",
        "Progress: [################----------------------------------] 32.0% "
       ]
      },
      {
       "output_type": "stream",
       "stream": "stdout",
       "text": [
        "\r",
        "Progress: [#################---------------------------------] 33.0% "
       ]
      },
      {
       "output_type": "stream",
       "stream": "stdout",
       "text": [
        "\r",
        "Progress: [#################---------------------------------] 34.0% "
       ]
      },
      {
       "output_type": "stream",
       "stream": "stdout",
       "text": [
        "\r",
        "Progress: [##################--------------------------------] 35.0% "
       ]
      },
      {
       "output_type": "stream",
       "stream": "stdout",
       "text": [
        "\r",
        "Progress: [##################--------------------------------] 36.0% "
       ]
      },
      {
       "output_type": "stream",
       "stream": "stdout",
       "text": [
        "\r",
        "Progress: [###################-------------------------------] 37.0% "
       ]
      },
      {
       "output_type": "stream",
       "stream": "stdout",
       "text": [
        "\r",
        "Progress: [###################-------------------------------] 38.0% "
       ]
      },
      {
       "output_type": "stream",
       "stream": "stdout",
       "text": [
        "\r",
        "Progress: [####################------------------------------] 39.0% "
       ]
      },
      {
       "output_type": "stream",
       "stream": "stdout",
       "text": [
        "\r",
        "Progress: [####################------------------------------] 40.0% "
       ]
      },
      {
       "output_type": "stream",
       "stream": "stdout",
       "text": [
        "\r",
        "Progress: [#####################-----------------------------] 41.0% "
       ]
      },
      {
       "output_type": "stream",
       "stream": "stdout",
       "text": [
        "\r",
        "Progress: [#####################-----------------------------] 42.0% "
       ]
      },
      {
       "output_type": "stream",
       "stream": "stdout",
       "text": [
        "\r",
        "Progress: [######################----------------------------] 43.0% "
       ]
      },
      {
       "output_type": "stream",
       "stream": "stdout",
       "text": [
        "\r",
        "Progress: [######################----------------------------] 44.0% "
       ]
      },
      {
       "output_type": "stream",
       "stream": "stdout",
       "text": [
        "\r",
        "Progress: [#######################---------------------------] 45.0% "
       ]
      },
      {
       "output_type": "stream",
       "stream": "stdout",
       "text": [
        "\r",
        "Progress: [#######################---------------------------] 46.0% "
       ]
      },
      {
       "output_type": "stream",
       "stream": "stdout",
       "text": [
        "\r",
        "Progress: [########################--------------------------] 47.0% "
       ]
      },
      {
       "output_type": "stream",
       "stream": "stdout",
       "text": [
        "\r",
        "Progress: [########################--------------------------] 48.0% "
       ]
      },
      {
       "output_type": "stream",
       "stream": "stdout",
       "text": [
        "\r",
        "Progress: [#########################-------------------------] 49.0% "
       ]
      },
      {
       "output_type": "stream",
       "stream": "stdout",
       "text": [
        "\r",
        "Progress: [#########################-------------------------] 50.0% "
       ]
      },
      {
       "output_type": "stream",
       "stream": "stdout",
       "text": [
        "\r",
        "Progress: [##########################------------------------] 51.0% "
       ]
      },
      {
       "output_type": "stream",
       "stream": "stdout",
       "text": [
        "\r",
        "Progress: [##########################------------------------] 52.0% "
       ]
      },
      {
       "output_type": "stream",
       "stream": "stdout",
       "text": [
        "\r",
        "Progress: [###########################-----------------------] 53.0% "
       ]
      },
      {
       "output_type": "stream",
       "stream": "stdout",
       "text": [
        "\r",
        "Progress: [###########################-----------------------] 54.0% "
       ]
      },
      {
       "output_type": "stream",
       "stream": "stdout",
       "text": [
        "\r",
        "Progress: [############################----------------------] 55.0% "
       ]
      },
      {
       "output_type": "stream",
       "stream": "stdout",
       "text": [
        "\r",
        "Progress: [############################----------------------] 56.0% "
       ]
      },
      {
       "output_type": "stream",
       "stream": "stdout",
       "text": [
        "\r",
        "Progress: [############################----------------------] 57.0% "
       ]
      },
      {
       "output_type": "stream",
       "stream": "stdout",
       "text": [
        "\r",
        "Progress: [#############################---------------------] 58.0% "
       ]
      },
      {
       "output_type": "stream",
       "stream": "stdout",
       "text": [
        "\r",
        "Progress: [##############################--------------------] 59.0% "
       ]
      },
      {
       "output_type": "stream",
       "stream": "stdout",
       "text": [
        "\r",
        "Progress: [##############################--------------------] 60.0% "
       ]
      },
      {
       "output_type": "stream",
       "stream": "stdout",
       "text": [
        "\r",
        "Progress: [###############################-------------------] 61.0% "
       ]
      },
      {
       "output_type": "stream",
       "stream": "stdout",
       "text": [
        "\r",
        "Progress: [###############################-------------------] 62.0% "
       ]
      },
      {
       "output_type": "stream",
       "stream": "stdout",
       "text": [
        "\r",
        "Progress: [################################------------------] 63.0% "
       ]
      },
      {
       "output_type": "stream",
       "stream": "stdout",
       "text": [
        "\r",
        "Progress: [################################------------------] 64.0% "
       ]
      },
      {
       "output_type": "stream",
       "stream": "stdout",
       "text": [
        "\r",
        "Progress: [#################################-----------------] 65.0% "
       ]
      },
      {
       "output_type": "stream",
       "stream": "stdout",
       "text": [
        "\r",
        "Progress: [#################################-----------------] 66.0% "
       ]
      },
      {
       "output_type": "stream",
       "stream": "stdout",
       "text": [
        "\r",
        "Progress: [##################################----------------] 67.0% "
       ]
      },
      {
       "output_type": "stream",
       "stream": "stdout",
       "text": [
        "\r",
        "Progress: [##################################----------------] 68.0% "
       ]
      },
      {
       "output_type": "stream",
       "stream": "stdout",
       "text": [
        "\r",
        "Progress: [###################################---------------] 69.0% "
       ]
      },
      {
       "output_type": "stream",
       "stream": "stdout",
       "text": [
        "\r",
        "Progress: [###################################---------------] 70.0% "
       ]
      },
      {
       "output_type": "stream",
       "stream": "stdout",
       "text": [
        "\r",
        "Progress: [####################################--------------] 71.0% "
       ]
      },
      {
       "output_type": "stream",
       "stream": "stdout",
       "text": [
        "\r",
        "Progress: [####################################--------------] 72.0% "
       ]
      },
      {
       "output_type": "stream",
       "stream": "stdout",
       "text": [
        "\r",
        "Progress: [#####################################-------------] 73.0% "
       ]
      },
      {
       "output_type": "stream",
       "stream": "stdout",
       "text": [
        "\r",
        "Progress: [#####################################-------------] 74.0% "
       ]
      },
      {
       "output_type": "stream",
       "stream": "stdout",
       "text": [
        "\r",
        "Progress: [######################################------------] 75.0% "
       ]
      },
      {
       "output_type": "stream",
       "stream": "stdout",
       "text": [
        "\r",
        "Progress: [######################################------------] 76.0% "
       ]
      },
      {
       "output_type": "stream",
       "stream": "stdout",
       "text": [
        "\r",
        "Progress: [#######################################-----------] 77.0% "
       ]
      },
      {
       "output_type": "stream",
       "stream": "stdout",
       "text": [
        "\r",
        "Progress: [#######################################-----------] 78.0% "
       ]
      },
      {
       "output_type": "stream",
       "stream": "stdout",
       "text": [
        "\r",
        "Progress: [########################################----------] 79.0% "
       ]
      },
      {
       "output_type": "stream",
       "stream": "stdout",
       "text": [
        "\r",
        "Progress: [########################################----------] 80.0% "
       ]
      },
      {
       "output_type": "stream",
       "stream": "stdout",
       "text": [
        "\r",
        "Progress: [#########################################---------] 81.0% "
       ]
      },
      {
       "output_type": "stream",
       "stream": "stdout",
       "text": [
        "\r",
        "Progress: [#########################################---------] 82.0% "
       ]
      },
      {
       "output_type": "stream",
       "stream": "stdout",
       "text": [
        "\r",
        "Progress: [##########################################--------] 83.0% "
       ]
      },
      {
       "output_type": "stream",
       "stream": "stdout",
       "text": [
        "\r",
        "Progress: [##########################################--------] 84.0% "
       ]
      },
      {
       "output_type": "stream",
       "stream": "stdout",
       "text": [
        "\r",
        "Progress: [###########################################-------] 85.0% "
       ]
      },
      {
       "output_type": "stream",
       "stream": "stdout",
       "text": [
        "\r",
        "Progress: [###########################################-------] 86.0% "
       ]
      },
      {
       "output_type": "stream",
       "stream": "stdout",
       "text": [
        "\r",
        "Progress: [############################################------] 87.0% "
       ]
      },
      {
       "output_type": "stream",
       "stream": "stdout",
       "text": [
        "\r",
        "Progress: [############################################------] 88.0% "
       ]
      },
      {
       "output_type": "stream",
       "stream": "stdout",
       "text": [
        "\r",
        "Progress: [#############################################-----] 89.0% "
       ]
      },
      {
       "output_type": "stream",
       "stream": "stdout",
       "text": [
        "\r",
        "Progress: [#############################################-----] 90.0% "
       ]
      },
      {
       "output_type": "stream",
       "stream": "stdout",
       "text": [
        "\r",
        "Progress: [##############################################----] 91.0% "
       ]
      },
      {
       "output_type": "stream",
       "stream": "stdout",
       "text": [
        "\r",
        "Progress: [##############################################----] 92.0% "
       ]
      },
      {
       "output_type": "stream",
       "stream": "stdout",
       "text": [
        "\r",
        "Progress: [###############################################---] 93.0% "
       ]
      },
      {
       "output_type": "stream",
       "stream": "stdout",
       "text": [
        "\r",
        "Progress: [###############################################---] 94.0% "
       ]
      },
      {
       "output_type": "stream",
       "stream": "stdout",
       "text": [
        "\r",
        "Progress: [################################################--] 95.0% "
       ]
      },
      {
       "output_type": "stream",
       "stream": "stdout",
       "text": [
        "\r",
        "Progress: [################################################--] 96.0% "
       ]
      },
      {
       "output_type": "stream",
       "stream": "stdout",
       "text": [
        "\r",
        "Progress: [#################################################-] 97.0% "
       ]
      },
      {
       "output_type": "stream",
       "stream": "stdout",
       "text": [
        "\r",
        "Progress: [#################################################-] 98.0% "
       ]
      },
      {
       "output_type": "stream",
       "stream": "stdout",
       "text": [
        "\r",
        "Progress: [##################################################] 99.0% "
       ]
      },
      {
       "output_type": "stream",
       "stream": "stdout",
       "text": [
        "\r",
        "Progress: [##################################################] 100.0% Done...\r\n"
       ]
      },
      {
       "output_type": "stream",
       "stream": "stdout",
       "text": [
        "Wall Time taken:  0.0392220020294\n",
        "\n",
        "\n",
        " - - - - - - - - - - - - - - -   Epoch  9  - - - - - - - - - - - - - - -\n",
        "Training ...\n",
        "\r",
        "Progress: [--------------------------------------------------] 0.0% "
       ]
      },
      {
       "output_type": "stream",
       "stream": "stdout",
       "text": [
        "\r",
        "Progress: [#-------------------------------------------------] 1.0% "
       ]
      },
      {
       "output_type": "stream",
       "stream": "stdout",
       "text": [
        "\r",
        "Progress: [#-------------------------------------------------] 2.0% "
       ]
      },
      {
       "output_type": "stream",
       "stream": "stdout",
       "text": [
        "\r",
        "Progress: [##------------------------------------------------] 3.0% "
       ]
      },
      {
       "output_type": "stream",
       "stream": "stdout",
       "text": [
        "\r",
        "Progress: [##------------------------------------------------] 4.0% "
       ]
      },
      {
       "output_type": "stream",
       "stream": "stdout",
       "text": [
        "\r",
        "Progress: [###-----------------------------------------------] 5.0% "
       ]
      },
      {
       "output_type": "stream",
       "stream": "stdout",
       "text": [
        "\r",
        "Progress: [###-----------------------------------------------] 6.0% "
       ]
      },
      {
       "output_type": "stream",
       "stream": "stdout",
       "text": [
        "\r",
        "Progress: [####----------------------------------------------] 7.0% "
       ]
      },
      {
       "output_type": "stream",
       "stream": "stdout",
       "text": [
        "\r",
        "Progress: [####----------------------------------------------] 8.0% "
       ]
      },
      {
       "output_type": "stream",
       "stream": "stdout",
       "text": [
        "\r",
        "Progress: [#####---------------------------------------------] 9.0% "
       ]
      },
      {
       "output_type": "stream",
       "stream": "stdout",
       "text": [
        "\r",
        "Progress: [#####---------------------------------------------] 10.0% "
       ]
      },
      {
       "output_type": "stream",
       "stream": "stdout",
       "text": [
        "\r",
        "Progress: [######--------------------------------------------] 11.0% "
       ]
      },
      {
       "output_type": "stream",
       "stream": "stdout",
       "text": [
        "\r",
        "Progress: [######--------------------------------------------] 12.0% "
       ]
      },
      {
       "output_type": "stream",
       "stream": "stdout",
       "text": [
        "\r",
        "Progress: [#######-------------------------------------------] 13.0% "
       ]
      },
      {
       "output_type": "stream",
       "stream": "stdout",
       "text": [
        "\r",
        "Progress: [#######-------------------------------------------] 14.0% "
       ]
      },
      {
       "output_type": "stream",
       "stream": "stdout",
       "text": [
        "\r",
        "Progress: [########------------------------------------------] 15.0% "
       ]
      },
      {
       "output_type": "stream",
       "stream": "stdout",
       "text": [
        "\r",
        "Progress: [########------------------------------------------] 16.0% "
       ]
      },
      {
       "output_type": "stream",
       "stream": "stdout",
       "text": [
        "\r",
        "Progress: [#########-----------------------------------------] 17.0% "
       ]
      },
      {
       "output_type": "stream",
       "stream": "stdout",
       "text": [
        "\r",
        "Progress: [#########-----------------------------------------] 18.0% "
       ]
      },
      {
       "output_type": "stream",
       "stream": "stdout",
       "text": [
        "\r",
        "Progress: [##########----------------------------------------] 19.0% "
       ]
      },
      {
       "output_type": "stream",
       "stream": "stdout",
       "text": [
        "\r",
        "Progress: [##########----------------------------------------] 20.0% "
       ]
      },
      {
       "output_type": "stream",
       "stream": "stdout",
       "text": [
        "\r",
        "Progress: [###########---------------------------------------] 21.0% "
       ]
      },
      {
       "output_type": "stream",
       "stream": "stdout",
       "text": [
        "\r",
        "Progress: [###########---------------------------------------] 22.0% "
       ]
      },
      {
       "output_type": "stream",
       "stream": "stdout",
       "text": [
        "\r",
        "Progress: [############--------------------------------------] 23.0% "
       ]
      },
      {
       "output_type": "stream",
       "stream": "stdout",
       "text": [
        "\r",
        "Progress: [############--------------------------------------] 24.0% "
       ]
      },
      {
       "output_type": "stream",
       "stream": "stdout",
       "text": [
        "\r",
        "Progress: [#############-------------------------------------] 25.0% "
       ]
      },
      {
       "output_type": "stream",
       "stream": "stdout",
       "text": [
        "\r",
        "Progress: [#############-------------------------------------] 26.0% "
       ]
      },
      {
       "output_type": "stream",
       "stream": "stdout",
       "text": [
        "\r",
        "Progress: [##############------------------------------------] 27.0% "
       ]
      },
      {
       "output_type": "stream",
       "stream": "stdout",
       "text": [
        "\r",
        "Progress: [##############------------------------------------] 28.0% "
       ]
      },
      {
       "output_type": "stream",
       "stream": "stdout",
       "text": [
        "\r",
        "Progress: [##############------------------------------------] 29.0% "
       ]
      },
      {
       "output_type": "stream",
       "stream": "stdout",
       "text": [
        "\r",
        "Progress: [###############-----------------------------------] 30.0% "
       ]
      },
      {
       "output_type": "stream",
       "stream": "stdout",
       "text": [
        "\r",
        "Progress: [################----------------------------------] 31.0% "
       ]
      },
      {
       "output_type": "stream",
       "stream": "stdout",
       "text": [
        "\r",
        "Progress: [################----------------------------------] 32.0% "
       ]
      },
      {
       "output_type": "stream",
       "stream": "stdout",
       "text": [
        "\r",
        "Progress: [#################---------------------------------] 33.0% "
       ]
      },
      {
       "output_type": "stream",
       "stream": "stdout",
       "text": [
        "\r",
        "Progress: [#################---------------------------------] 34.0% "
       ]
      },
      {
       "output_type": "stream",
       "stream": "stdout",
       "text": [
        "\r",
        "Progress: [##################--------------------------------] 35.0% "
       ]
      },
      {
       "output_type": "stream",
       "stream": "stdout",
       "text": [
        "\r",
        "Progress: [##################--------------------------------] 36.0% "
       ]
      },
      {
       "output_type": "stream",
       "stream": "stdout",
       "text": [
        "\r",
        "Progress: [###################-------------------------------] 37.0% "
       ]
      },
      {
       "output_type": "stream",
       "stream": "stdout",
       "text": [
        "\r",
        "Progress: [###################-------------------------------] 38.0% "
       ]
      },
      {
       "output_type": "stream",
       "stream": "stdout",
       "text": [
        "\r",
        "Progress: [####################------------------------------] 39.0% "
       ]
      },
      {
       "output_type": "stream",
       "stream": "stdout",
       "text": [
        "\r",
        "Progress: [####################------------------------------] 40.0% "
       ]
      },
      {
       "output_type": "stream",
       "stream": "stdout",
       "text": [
        "\r",
        "Progress: [#####################-----------------------------] 41.0% "
       ]
      },
      {
       "output_type": "stream",
       "stream": "stdout",
       "text": [
        "\r",
        "Progress: [#####################-----------------------------] 42.0% "
       ]
      },
      {
       "output_type": "stream",
       "stream": "stdout",
       "text": [
        "\r",
        "Progress: [######################----------------------------] 43.0% "
       ]
      },
      {
       "output_type": "stream",
       "stream": "stdout",
       "text": [
        "\r",
        "Progress: [######################----------------------------] 44.0% "
       ]
      },
      {
       "output_type": "stream",
       "stream": "stdout",
       "text": [
        "\r",
        "Progress: [#######################---------------------------] 45.0% "
       ]
      },
      {
       "output_type": "stream",
       "stream": "stdout",
       "text": [
        "\r",
        "Progress: [#######################---------------------------] 46.0% "
       ]
      },
      {
       "output_type": "stream",
       "stream": "stdout",
       "text": [
        "\r",
        "Progress: [########################--------------------------] 47.0% "
       ]
      },
      {
       "output_type": "stream",
       "stream": "stdout",
       "text": [
        "\r",
        "Progress: [########################--------------------------] 48.0% "
       ]
      },
      {
       "output_type": "stream",
       "stream": "stdout",
       "text": [
        "\r",
        "Progress: [#########################-------------------------] 49.0% "
       ]
      },
      {
       "output_type": "stream",
       "stream": "stdout",
       "text": [
        "\r",
        "Progress: [#########################-------------------------] 50.0% "
       ]
      },
      {
       "output_type": "stream",
       "stream": "stdout",
       "text": [
        "\r",
        "Progress: [##########################------------------------] 51.0% "
       ]
      },
      {
       "output_type": "stream",
       "stream": "stdout",
       "text": [
        "\r",
        "Progress: [##########################------------------------] 52.0% "
       ]
      },
      {
       "output_type": "stream",
       "stream": "stdout",
       "text": [
        "\r",
        "Progress: [###########################-----------------------] 53.0% "
       ]
      },
      {
       "output_type": "stream",
       "stream": "stdout",
       "text": [
        "\r",
        "Progress: [###########################-----------------------] 54.0% "
       ]
      },
      {
       "output_type": "stream",
       "stream": "stdout",
       "text": [
        "\r",
        "Progress: [############################----------------------] 55.0% "
       ]
      },
      {
       "output_type": "stream",
       "stream": "stdout",
       "text": [
        "\r",
        "Progress: [############################----------------------] 56.0% "
       ]
      },
      {
       "output_type": "stream",
       "stream": "stdout",
       "text": [
        "\r",
        "Progress: [############################----------------------] 57.0% "
       ]
      },
      {
       "output_type": "stream",
       "stream": "stdout",
       "text": [
        "\r",
        "Progress: [#############################---------------------] 58.0% "
       ]
      },
      {
       "output_type": "stream",
       "stream": "stdout",
       "text": [
        "\r",
        "Progress: [##############################--------------------] 59.0% "
       ]
      },
      {
       "output_type": "stream",
       "stream": "stdout",
       "text": [
        "\r",
        "Progress: [##############################--------------------] 60.0% "
       ]
      },
      {
       "output_type": "stream",
       "stream": "stdout",
       "text": [
        "\r",
        "Progress: [###############################-------------------] 61.0% "
       ]
      },
      {
       "output_type": "stream",
       "stream": "stdout",
       "text": [
        "\r",
        "Progress: [###############################-------------------] 62.0% "
       ]
      },
      {
       "output_type": "stream",
       "stream": "stdout",
       "text": [
        "\r",
        "Progress: [################################------------------] 63.0% "
       ]
      },
      {
       "output_type": "stream",
       "stream": "stdout",
       "text": [
        "\r",
        "Progress: [################################------------------] 64.0% "
       ]
      },
      {
       "output_type": "stream",
       "stream": "stdout",
       "text": [
        "\r",
        "Progress: [#################################-----------------] 65.0% "
       ]
      },
      {
       "output_type": "stream",
       "stream": "stdout",
       "text": [
        "\r",
        "Progress: [#################################-----------------] 66.0% "
       ]
      },
      {
       "output_type": "stream",
       "stream": "stdout",
       "text": [
        "\r",
        "Progress: [##################################----------------] 67.0% "
       ]
      },
      {
       "output_type": "stream",
       "stream": "stdout",
       "text": [
        "\r",
        "Progress: [##################################----------------] 68.0% "
       ]
      },
      {
       "output_type": "stream",
       "stream": "stdout",
       "text": [
        "\r",
        "Progress: [###################################---------------] 69.0% "
       ]
      },
      {
       "output_type": "stream",
       "stream": "stdout",
       "text": [
        "\r",
        "Progress: [###################################---------------] 70.0% "
       ]
      },
      {
       "output_type": "stream",
       "stream": "stdout",
       "text": [
        "\r",
        "Progress: [####################################--------------] 71.0% "
       ]
      },
      {
       "output_type": "stream",
       "stream": "stdout",
       "text": [
        "\r",
        "Progress: [####################################--------------] 72.0% "
       ]
      },
      {
       "output_type": "stream",
       "stream": "stdout",
       "text": [
        "\r",
        "Progress: [#####################################-------------] 73.0% "
       ]
      },
      {
       "output_type": "stream",
       "stream": "stdout",
       "text": [
        "\r",
        "Progress: [#####################################-------------] 74.0% "
       ]
      },
      {
       "output_type": "stream",
       "stream": "stdout",
       "text": [
        "\r",
        "Progress: [######################################------------] 75.0% "
       ]
      },
      {
       "output_type": "stream",
       "stream": "stdout",
       "text": [
        "\r",
        "Progress: [######################################------------] 76.0% "
       ]
      },
      {
       "output_type": "stream",
       "stream": "stdout",
       "text": [
        "\r",
        "Progress: [#######################################-----------] 77.0% "
       ]
      },
      {
       "output_type": "stream",
       "stream": "stdout",
       "text": [
        "\r",
        "Progress: [#######################################-----------] 78.0% "
       ]
      },
      {
       "output_type": "stream",
       "stream": "stdout",
       "text": [
        "\r",
        "Progress: [########################################----------] 79.0% "
       ]
      },
      {
       "output_type": "stream",
       "stream": "stdout",
       "text": [
        "\r",
        "Progress: [########################################----------] 80.0% "
       ]
      },
      {
       "output_type": "stream",
       "stream": "stdout",
       "text": [
        "\r",
        "Progress: [#########################################---------] 81.0% "
       ]
      },
      {
       "output_type": "stream",
       "stream": "stdout",
       "text": [
        "\r",
        "Progress: [#########################################---------] 82.0% "
       ]
      },
      {
       "output_type": "stream",
       "stream": "stdout",
       "text": [
        "\r",
        "Progress: [##########################################--------] 83.0% "
       ]
      },
      {
       "output_type": "stream",
       "stream": "stdout",
       "text": [
        "\r",
        "Progress: [##########################################--------] 84.0% "
       ]
      },
      {
       "output_type": "stream",
       "stream": "stdout",
       "text": [
        "\r",
        "Progress: [###########################################-------] 85.0% "
       ]
      },
      {
       "output_type": "stream",
       "stream": "stdout",
       "text": [
        "\r",
        "Progress: [###########################################-------] 86.0% "
       ]
      },
      {
       "output_type": "stream",
       "stream": "stdout",
       "text": [
        "\r",
        "Progress: [############################################------] 87.0% "
       ]
      },
      {
       "output_type": "stream",
       "stream": "stdout",
       "text": [
        "\r",
        "Progress: [############################################------] 88.0% "
       ]
      },
      {
       "output_type": "stream",
       "stream": "stdout",
       "text": [
        "\r",
        "Progress: [#############################################-----] 89.0% "
       ]
      },
      {
       "output_type": "stream",
       "stream": "stdout",
       "text": [
        "\r",
        "Progress: [#############################################-----] 90.0% "
       ]
      },
      {
       "output_type": "stream",
       "stream": "stdout",
       "text": [
        "\r",
        "Progress: [##############################################----] 91.0% "
       ]
      },
      {
       "output_type": "stream",
       "stream": "stdout",
       "text": [
        "\r",
        "Progress: [##############################################----] 92.0% "
       ]
      },
      {
       "output_type": "stream",
       "stream": "stdout",
       "text": [
        "\r",
        "Progress: [###############################################---] 93.0% "
       ]
      },
      {
       "output_type": "stream",
       "stream": "stdout",
       "text": [
        "\r",
        "Progress: [###############################################---] 94.0% "
       ]
      },
      {
       "output_type": "stream",
       "stream": "stdout",
       "text": [
        "\r",
        "Progress: [################################################--] 95.0% "
       ]
      },
      {
       "output_type": "stream",
       "stream": "stdout",
       "text": [
        "\r",
        "Progress: [################################################--] 96.0% "
       ]
      },
      {
       "output_type": "stream",
       "stream": "stdout",
       "text": [
        "\r",
        "Progress: [#################################################-] 97.0% "
       ]
      },
      {
       "output_type": "stream",
       "stream": "stdout",
       "text": [
        "\r",
        "Progress: [#################################################-] 98.0% "
       ]
      },
      {
       "output_type": "stream",
       "stream": "stdout",
       "text": [
        "\r",
        "Progress: [##################################################] 99.0% "
       ]
      },
      {
       "output_type": "stream",
       "stream": "stdout",
       "text": [
        "\r",
        "Progress: [##################################################] 100.0% Done...\r\n"
       ]
      },
      {
       "output_type": "stream",
       "stream": "stdout",
       "text": [
        "Wall Time taken:  0.0392699241638\n",
        "\n",
        "\n",
        " - - - - - - - - - - - - - - -   Epoch  10  - - - - - - - - - - - - - - -\n",
        "Training ...\n",
        "\r",
        "Progress: [--------------------------------------------------] 0.0% "
       ]
      },
      {
       "output_type": "stream",
       "stream": "stdout",
       "text": [
        "\r",
        "Progress: [#-------------------------------------------------] 1.0% "
       ]
      },
      {
       "output_type": "stream",
       "stream": "stdout",
       "text": [
        "\r",
        "Progress: [#-------------------------------------------------] 2.0% "
       ]
      },
      {
       "output_type": "stream",
       "stream": "stdout",
       "text": [
        "\r",
        "Progress: [##------------------------------------------------] 3.0% "
       ]
      },
      {
       "output_type": "stream",
       "stream": "stdout",
       "text": [
        "\r",
        "Progress: [##------------------------------------------------] 4.0% "
       ]
      },
      {
       "output_type": "stream",
       "stream": "stdout",
       "text": [
        "\r",
        "Progress: [###-----------------------------------------------] 5.0% "
       ]
      },
      {
       "output_type": "stream",
       "stream": "stdout",
       "text": [
        "\r",
        "Progress: [###-----------------------------------------------] 6.0% "
       ]
      },
      {
       "output_type": "stream",
       "stream": "stdout",
       "text": [
        "\r",
        "Progress: [####----------------------------------------------] 7.0% "
       ]
      },
      {
       "output_type": "stream",
       "stream": "stdout",
       "text": [
        "\r",
        "Progress: [####----------------------------------------------] 8.0% "
       ]
      },
      {
       "output_type": "stream",
       "stream": "stdout",
       "text": [
        "\r",
        "Progress: [#####---------------------------------------------] 9.0% "
       ]
      },
      {
       "output_type": "stream",
       "stream": "stdout",
       "text": [
        "\r",
        "Progress: [#####---------------------------------------------] 10.0% "
       ]
      },
      {
       "output_type": "stream",
       "stream": "stdout",
       "text": [
        "\r",
        "Progress: [######--------------------------------------------] 11.0% "
       ]
      },
      {
       "output_type": "stream",
       "stream": "stdout",
       "text": [
        "\r",
        "Progress: [######--------------------------------------------] 12.0% "
       ]
      },
      {
       "output_type": "stream",
       "stream": "stdout",
       "text": [
        "\r",
        "Progress: [#######-------------------------------------------] 13.0% "
       ]
      },
      {
       "output_type": "stream",
       "stream": "stdout",
       "text": [
        "\r",
        "Progress: [#######-------------------------------------------] 14.0% "
       ]
      },
      {
       "output_type": "stream",
       "stream": "stdout",
       "text": [
        "\r",
        "Progress: [########------------------------------------------] 15.0% "
       ]
      },
      {
       "output_type": "stream",
       "stream": "stdout",
       "text": [
        "\r",
        "Progress: [########------------------------------------------] 16.0% "
       ]
      },
      {
       "output_type": "stream",
       "stream": "stdout",
       "text": [
        "\r",
        "Progress: [#########-----------------------------------------] 17.0% "
       ]
      },
      {
       "output_type": "stream",
       "stream": "stdout",
       "text": [
        "\r",
        "Progress: [#########-----------------------------------------] 18.0% "
       ]
      },
      {
       "output_type": "stream",
       "stream": "stdout",
       "text": [
        "\r",
        "Progress: [##########----------------------------------------] 19.0% "
       ]
      },
      {
       "output_type": "stream",
       "stream": "stdout",
       "text": [
        "\r",
        "Progress: [##########----------------------------------------] 20.0% "
       ]
      },
      {
       "output_type": "stream",
       "stream": "stdout",
       "text": [
        "\r",
        "Progress: [###########---------------------------------------] 21.0% "
       ]
      },
      {
       "output_type": "stream",
       "stream": "stdout",
       "text": [
        "\r",
        "Progress: [###########---------------------------------------] 22.0% "
       ]
      },
      {
       "output_type": "stream",
       "stream": "stdout",
       "text": [
        "\r",
        "Progress: [############--------------------------------------] 23.0% "
       ]
      },
      {
       "output_type": "stream",
       "stream": "stdout",
       "text": [
        "\r",
        "Progress: [############--------------------------------------] 24.0% "
       ]
      },
      {
       "output_type": "stream",
       "stream": "stdout",
       "text": [
        "\r",
        "Progress: [#############-------------------------------------] 25.0% "
       ]
      },
      {
       "output_type": "stream",
       "stream": "stdout",
       "text": [
        "\r",
        "Progress: [#############-------------------------------------] 26.0% "
       ]
      },
      {
       "output_type": "stream",
       "stream": "stdout",
       "text": [
        "\r",
        "Progress: [##############------------------------------------] 27.0% "
       ]
      },
      {
       "output_type": "stream",
       "stream": "stdout",
       "text": [
        "\r",
        "Progress: [##############------------------------------------] 28.0% "
       ]
      },
      {
       "output_type": "stream",
       "stream": "stdout",
       "text": [
        "\r",
        "Progress: [##############------------------------------------] 29.0% "
       ]
      },
      {
       "output_type": "stream",
       "stream": "stdout",
       "text": [
        "\r",
        "Progress: [###############-----------------------------------] 30.0% "
       ]
      },
      {
       "output_type": "stream",
       "stream": "stdout",
       "text": [
        "\r",
        "Progress: [################----------------------------------] 31.0% "
       ]
      },
      {
       "output_type": "stream",
       "stream": "stdout",
       "text": [
        "\r",
        "Progress: [################----------------------------------] 32.0% "
       ]
      },
      {
       "output_type": "stream",
       "stream": "stdout",
       "text": [
        "\r",
        "Progress: [#################---------------------------------] 33.0% "
       ]
      },
      {
       "output_type": "stream",
       "stream": "stdout",
       "text": [
        "\r",
        "Progress: [#################---------------------------------] 34.0% "
       ]
      },
      {
       "output_type": "stream",
       "stream": "stdout",
       "text": [
        "\r",
        "Progress: [##################--------------------------------] 35.0% "
       ]
      },
      {
       "output_type": "stream",
       "stream": "stdout",
       "text": [
        "\r",
        "Progress: [##################--------------------------------] 36.0% "
       ]
      },
      {
       "output_type": "stream",
       "stream": "stdout",
       "text": [
        "\r",
        "Progress: [###################-------------------------------] 37.0% "
       ]
      },
      {
       "output_type": "stream",
       "stream": "stdout",
       "text": [
        "\r",
        "Progress: [###################-------------------------------] 38.0% "
       ]
      },
      {
       "output_type": "stream",
       "stream": "stdout",
       "text": [
        "\r",
        "Progress: [####################------------------------------] 39.0% "
       ]
      },
      {
       "output_type": "stream",
       "stream": "stdout",
       "text": [
        "\r",
        "Progress: [####################------------------------------] 40.0% "
       ]
      },
      {
       "output_type": "stream",
       "stream": "stdout",
       "text": [
        "\r",
        "Progress: [#####################-----------------------------] 41.0% "
       ]
      },
      {
       "output_type": "stream",
       "stream": "stdout",
       "text": [
        "\r",
        "Progress: [#####################-----------------------------] 42.0% "
       ]
      },
      {
       "output_type": "stream",
       "stream": "stdout",
       "text": [
        "\r",
        "Progress: [######################----------------------------] 43.0% "
       ]
      },
      {
       "output_type": "stream",
       "stream": "stdout",
       "text": [
        "\r",
        "Progress: [######################----------------------------] 44.0% "
       ]
      },
      {
       "output_type": "stream",
       "stream": "stdout",
       "text": [
        "\r",
        "Progress: [#######################---------------------------] 45.0% "
       ]
      },
      {
       "output_type": "stream",
       "stream": "stdout",
       "text": [
        "\r",
        "Progress: [#######################---------------------------] 46.0% "
       ]
      },
      {
       "output_type": "stream",
       "stream": "stdout",
       "text": [
        "\r",
        "Progress: [########################--------------------------] 47.0% "
       ]
      },
      {
       "output_type": "stream",
       "stream": "stdout",
       "text": [
        "\r",
        "Progress: [########################--------------------------] 48.0% "
       ]
      },
      {
       "output_type": "stream",
       "stream": "stdout",
       "text": [
        "\r",
        "Progress: [#########################-------------------------] 49.0% "
       ]
      },
      {
       "output_type": "stream",
       "stream": "stdout",
       "text": [
        "\r",
        "Progress: [#########################-------------------------] 50.0% "
       ]
      },
      {
       "output_type": "stream",
       "stream": "stdout",
       "text": [
        "\r",
        "Progress: [##########################------------------------] 51.0% "
       ]
      },
      {
       "output_type": "stream",
       "stream": "stdout",
       "text": [
        "\r",
        "Progress: [##########################------------------------] 52.0% "
       ]
      },
      {
       "output_type": "stream",
       "stream": "stdout",
       "text": [
        "\r",
        "Progress: [###########################-----------------------] 53.0% "
       ]
      },
      {
       "output_type": "stream",
       "stream": "stdout",
       "text": [
        "\r",
        "Progress: [###########################-----------------------] 54.0% "
       ]
      },
      {
       "output_type": "stream",
       "stream": "stdout",
       "text": [
        "\r",
        "Progress: [############################----------------------] 55.0% "
       ]
      },
      {
       "output_type": "stream",
       "stream": "stdout",
       "text": [
        "\r",
        "Progress: [############################----------------------] 56.0% "
       ]
      },
      {
       "output_type": "stream",
       "stream": "stdout",
       "text": [
        "\r",
        "Progress: [############################----------------------] 57.0% "
       ]
      },
      {
       "output_type": "stream",
       "stream": "stdout",
       "text": [
        "\r",
        "Progress: [#############################---------------------] 58.0% "
       ]
      },
      {
       "output_type": "stream",
       "stream": "stdout",
       "text": [
        "\r",
        "Progress: [##############################--------------------] 59.0% "
       ]
      },
      {
       "output_type": "stream",
       "stream": "stdout",
       "text": [
        "\r",
        "Progress: [##############################--------------------] 60.0% "
       ]
      },
      {
       "output_type": "stream",
       "stream": "stdout",
       "text": [
        "\r",
        "Progress: [###############################-------------------] 61.0% "
       ]
      },
      {
       "output_type": "stream",
       "stream": "stdout",
       "text": [
        "\r",
        "Progress: [###############################-------------------] 62.0% "
       ]
      },
      {
       "output_type": "stream",
       "stream": "stdout",
       "text": [
        "\r",
        "Progress: [################################------------------] 63.0% "
       ]
      },
      {
       "output_type": "stream",
       "stream": "stdout",
       "text": [
        "\r",
        "Progress: [################################------------------] 64.0% "
       ]
      },
      {
       "output_type": "stream",
       "stream": "stdout",
       "text": [
        "\r",
        "Progress: [#################################-----------------] 65.0% "
       ]
      },
      {
       "output_type": "stream",
       "stream": "stdout",
       "text": [
        "\r",
        "Progress: [#################################-----------------] 66.0% "
       ]
      },
      {
       "output_type": "stream",
       "stream": "stdout",
       "text": [
        "\r",
        "Progress: [##################################----------------] 67.0% "
       ]
      },
      {
       "output_type": "stream",
       "stream": "stdout",
       "text": [
        "\r",
        "Progress: [##################################----------------] 68.0% "
       ]
      },
      {
       "output_type": "stream",
       "stream": "stdout",
       "text": [
        "\r",
        "Progress: [###################################---------------] 69.0% "
       ]
      },
      {
       "output_type": "stream",
       "stream": "stdout",
       "text": [
        "\r",
        "Progress: [###################################---------------] 70.0% "
       ]
      },
      {
       "output_type": "stream",
       "stream": "stdout",
       "text": [
        "\r",
        "Progress: [####################################--------------] 71.0% "
       ]
      },
      {
       "output_type": "stream",
       "stream": "stdout",
       "text": [
        "\r",
        "Progress: [####################################--------------] 72.0% "
       ]
      },
      {
       "output_type": "stream",
       "stream": "stdout",
       "text": [
        "\r",
        "Progress: [#####################################-------------] 73.0% "
       ]
      },
      {
       "output_type": "stream",
       "stream": "stdout",
       "text": [
        "\r",
        "Progress: [#####################################-------------] 74.0% "
       ]
      },
      {
       "output_type": "stream",
       "stream": "stdout",
       "text": [
        "\r",
        "Progress: [######################################------------] 75.0% "
       ]
      },
      {
       "output_type": "stream",
       "stream": "stdout",
       "text": [
        "\r",
        "Progress: [######################################------------] 76.0% "
       ]
      },
      {
       "output_type": "stream",
       "stream": "stdout",
       "text": [
        "\r",
        "Progress: [#######################################-----------] 77.0% "
       ]
      },
      {
       "output_type": "stream",
       "stream": "stdout",
       "text": [
        "\r",
        "Progress: [#######################################-----------] 78.0% "
       ]
      },
      {
       "output_type": "stream",
       "stream": "stdout",
       "text": [
        "\r",
        "Progress: [########################################----------] 79.0% "
       ]
      },
      {
       "output_type": "stream",
       "stream": "stdout",
       "text": [
        "\r",
        "Progress: [########################################----------] 80.0% "
       ]
      },
      {
       "output_type": "stream",
       "stream": "stdout",
       "text": [
        "\r",
        "Progress: [#########################################---------] 81.0% "
       ]
      },
      {
       "output_type": "stream",
       "stream": "stdout",
       "text": [
        "\r",
        "Progress: [#########################################---------] 82.0% "
       ]
      },
      {
       "output_type": "stream",
       "stream": "stdout",
       "text": [
        "\r",
        "Progress: [##########################################--------] 83.0% "
       ]
      },
      {
       "output_type": "stream",
       "stream": "stdout",
       "text": [
        "\r",
        "Progress: [##########################################--------] 84.0% "
       ]
      },
      {
       "output_type": "stream",
       "stream": "stdout",
       "text": [
        "\r",
        "Progress: [###########################################-------] 85.0% "
       ]
      },
      {
       "output_type": "stream",
       "stream": "stdout",
       "text": [
        "\r",
        "Progress: [###########################################-------] 86.0% "
       ]
      },
      {
       "output_type": "stream",
       "stream": "stdout",
       "text": [
        "\r",
        "Progress: [############################################------] 87.0% "
       ]
      },
      {
       "output_type": "stream",
       "stream": "stdout",
       "text": [
        "\r",
        "Progress: [############################################------] 88.0% "
       ]
      },
      {
       "output_type": "stream",
       "stream": "stdout",
       "text": [
        "\r",
        "Progress: [#############################################-----] 89.0% "
       ]
      },
      {
       "output_type": "stream",
       "stream": "stdout",
       "text": [
        "\r",
        "Progress: [#############################################-----] 90.0% "
       ]
      },
      {
       "output_type": "stream",
       "stream": "stdout",
       "text": [
        "\r",
        "Progress: [##############################################----] 91.0% "
       ]
      },
      {
       "output_type": "stream",
       "stream": "stdout",
       "text": [
        "\r",
        "Progress: [##############################################----] 92.0% "
       ]
      },
      {
       "output_type": "stream",
       "stream": "stdout",
       "text": [
        "\r",
        "Progress: [###############################################---] 93.0% "
       ]
      },
      {
       "output_type": "stream",
       "stream": "stdout",
       "text": [
        "\r",
        "Progress: [###############################################---] 94.0% "
       ]
      },
      {
       "output_type": "stream",
       "stream": "stdout",
       "text": [
        "\r",
        "Progress: [################################################--] 95.0% "
       ]
      },
      {
       "output_type": "stream",
       "stream": "stdout",
       "text": [
        "\r",
        "Progress: [################################################--] 96.0% "
       ]
      },
      {
       "output_type": "stream",
       "stream": "stdout",
       "text": [
        "\r",
        "Progress: [#################################################-] 97.0% "
       ]
      },
      {
       "output_type": "stream",
       "stream": "stdout",
       "text": [
        "\r",
        "Progress: [#################################################-] 98.0% "
       ]
      },
      {
       "output_type": "stream",
       "stream": "stdout",
       "text": [
        "\r",
        "Progress: [##################################################] 99.0% "
       ]
      },
      {
       "output_type": "stream",
       "stream": "stdout",
       "text": [
        "\r",
        "Progress: [##################################################] 100.0% Done...\r\n"
       ]
      },
      {
       "output_type": "stream",
       "stream": "stdout",
       "text": [
        "Wall Time taken:  0.0393640995026\n"
       ]
      },
      {
       "metadata": {},
       "output_type": "pyout",
       "prompt_number": 2,
       "text": [
        "[<matplotlib.lines.Line2D at 0x410d750>]"
       ]
      },
      {
       "metadata": {},
       "output_type": "display_data",
       "png": "[encoded data removed]",
       "text": [
        "<matplotlib.figure.Figure at 0x3fdaed0>"
       ]
      }
     ],
     "prompt_number": 2
    },
    {
     "cell_type": "markdown",
     "metadata": {},
     "source": [
      "# Building a Network\n",
      "\n",
      "A network is built by connecting Layers to each other (using the >> operator) and then calling build_net() on one of them.\n",
      "\n",
      "You always need an InputLayer, but the output layer is inferred from the topology."
     ]
    },
    {
     "cell_type": "code",
     "collapsed": false,
     "input": [
      "net = build_net(InputLayer(3) >> ForwardLayer(3))"
     ],
     "language": "python",
     "metadata": {},
     "outputs": [],
     "prompt_number": 3
    },
    {
     "cell_type": "markdown",
     "metadata": {},
     "source": [
      "## Architecture\n",
      "A network can be inspected in a variety of ways. We only look at the architecture for now. That gives you a list of dictionaries, one for each layer of the network. There you can see all relevant information about the layer:\n",
      "\n",
      "- name: the unique name of the layer\n",
      "- type: the type of the layer\n",
      "- size: number of units/neurons\n",
      "- targets: the names of the layers this layer connects to\n",
      "- kwargs: [optional] the keyword arguments used to create this layer \n"
     ]
    },
    {
     "cell_type": "code",
     "collapsed": false,
     "input": [
      "net.architecture"
     ],
     "language": "python",
     "metadata": {},
     "outputs": [
      {
       "metadata": {},
       "output_type": "pyout",
       "prompt_number": 4,
       "text": [
        "[{u'name': u'InputLayer',\n",
        "  u'size': 3,\n",
        "  u'targets': [u'ForwardLayer'],\n",
        "  u'type': u'InputLayer'},\n",
        " {u'name': u'ForwardLayer',\n",
        "  u'size': 3,\n",
        "  u'targets': [],\n",
        "  u'type': u'ForwardLayer'}]"
       ]
      }
     ],
     "prompt_number": 4
    },
    {
     "cell_type": "markdown",
     "metadata": {},
     "source": [
      "## Examples\n",
      "So lets do some more complicated architectures:"
     ]
    },
    {
     "cell_type": "code",
     "collapsed": false,
     "input": [
      "# multiple layers of the same type get assigned unique names:\n",
      "net = build_net(InputLayer(7) >> ForwardLayer(8) >> ForwardLayer(9) >> ForwardLayer(10))\n",
      "net.architecture"
     ],
     "language": "python",
     "metadata": {},
     "outputs": [
      {
       "metadata": {},
       "output_type": "pyout",
       "prompt_number": 5,
       "text": [
        "[{u'name': u'InputLayer',\n",
        "  u'size': 7,\n",
        "  u'targets': [u'ForwardLayer_1'],\n",
        "  u'type': u'InputLayer'},\n",
        " {u'name': u'ForwardLayer_1',\n",
        "  u'size': 8,\n",
        "  u'targets': [u'ForwardLayer_2'],\n",
        "  u'type': u'ForwardLayer'},\n",
        " {u'name': u'ForwardLayer_2',\n",
        "  u'size': 9,\n",
        "  u'targets': [u'ForwardLayer_3'],\n",
        "  u'type': u'ForwardLayer'},\n",
        " {u'name': u'ForwardLayer_3',\n",
        "  u'size': 10,\n",
        "  u'targets': [],\n",
        "  u'type': u'ForwardLayer'}]"
       ]
      }
     ],
     "prompt_number": 5
    },
    {
     "cell_type": "code",
     "collapsed": false,
     "input": [
      "# But you can also assign names yourself if you like:\n",
      "net = build_net(InputLayer(7) >> ForwardLayer(8, name='foo') >> ForwardLayer(9, name='bar') >> ForwardLayer(10, name='baz'))\n",
      "net.architecture"
     ],
     "language": "python",
     "metadata": {},
     "outputs": [
      {
       "metadata": {},
       "output_type": "pyout",
       "prompt_number": 6,
       "text": [
        "[{u'name': u'InputLayer',\n",
        "  u'size': 7,\n",
        "  u'targets': ['foo'],\n",
        "  u'type': u'InputLayer'},\n",
        " {u'name': 'foo', u'size': 8, u'targets': ['bar'], u'type': u'ForwardLayer'},\n",
        " {u'name': 'bar', u'size': 9, u'targets': ['baz'], u'type': u'ForwardLayer'},\n",
        " {u'name': 'baz', u'size': 10, u'targets': [], u'type': u'ForwardLayer'}]"
       ]
      }
     ],
     "prompt_number": 6
    },
    {
     "cell_type": "code",
     "collapsed": false,
     "input": [
      "# You can split constructing the layers, wiring them up, and building the network as you like:\n",
      "il = InputLayer(7)\n",
      "foo = ForwardLayer(8, name='foo')\n",
      "bar = ForwardLayer(9, name='bar')\n",
      "baz = ForwardLayer(10, name='baz')\n",
      "il >> foo >> bar >> baz\n",
      "net = build_net(il) # == build_net(foo) == build_net(bar) == build_net(baz)\n",
      "net.architecture"
     ],
     "language": "python",
     "metadata": {},
     "outputs": [
      {
       "metadata": {},
       "output_type": "pyout",
       "prompt_number": 7,
       "text": [
        "[{u'name': u'InputLayer',\n",
        "  u'size': 7,\n",
        "  u'targets': ['foo'],\n",
        "  u'type': u'InputLayer'},\n",
        " {u'name': 'foo', u'size': 8, u'targets': ['bar'], u'type': u'ForwardLayer'},\n",
        " {u'name': 'bar', u'size': 9, u'targets': ['baz'], u'type': u'ForwardLayer'},\n",
        " {u'name': 'baz', u'size': 10, u'targets': [], u'type': u'ForwardLayer'}]"
       ]
      }
     ],
     "prompt_number": 7
    },
    {
     "cell_type": "code",
     "collapsed": false,
     "input": [
      "# You can build more complicated architectures using this technique. Here an BLSTM example:\n",
      "il = InputLayer(7)\n",
      "ol = ForwardLayer(9)\n",
      "il >> LstmLayer(8) >> ol\n",
      "il >> ReverseLayer() >> LstmLayer(8) >> ReverseLayer() >> ol\n",
      "# this line ^ is equivalent to the line below\n",
      "# il >> ReverseLayer(7) >> LstmLayer(8) >> ReverseLayer(8) >> ol\n",
      "net = build_net(il)\n",
      "net.architecture\n"
     ],
     "language": "python",
     "metadata": {},
     "outputs": [
      {
       "metadata": {},
       "output_type": "pyout",
       "prompt_number": 8,
       "text": [
        "[{u'name': u'InputLayer',\n",
        "  u'size': 7,\n",
        "  u'targets': [u'LstmLayer_1', u'ReverseLayer_1'],\n",
        "  u'type': u'InputLayer'},\n",
        " {u'name': u'LstmLayer_1',\n",
        "  u'size': 8,\n",
        "  u'targets': [u'ForwardLayer'],\n",
        "  u'type': u'LstmLayer'},\n",
        " {u'name': u'ReverseLayer_1',\n",
        "  u'size': 7,\n",
        "  u'targets': [u'LstmLayer_2'],\n",
        "  u'type': u'ReverseLayer'},\n",
        " {u'name': u'LstmLayer_2',\n",
        "  u'size': 8,\n",
        "  u'targets': [u'ReverseLayer_2'],\n",
        "  u'type': u'LstmLayer'},\n",
        " {u'name': u'ReverseLayer_2',\n",
        "  u'size': 8,\n",
        "  u'targets': [u'ForwardLayer'],\n",
        "  u'type': u'ReverseLayer'},\n",
        " {u'name': u'ForwardLayer',\n",
        "  u'size': 9,\n",
        "  u'targets': [],\n",
        "  u'type': u'ForwardLayer'}]"
       ]
      }
     ],
     "prompt_number": 8
    },
    {
     "cell_type": "markdown",
     "metadata": {},
     "source": [
      "## Layer Types"
     ]
    },
    {
     "cell_type": "code",
     "collapsed": false,
     "input": [
      "il = InputLayer()\n",
      "\n",
      "fwd = ForwardLayer()\n",
      "\n",
      "rnn = RnnLayer()\n",
      "mrnn = MrnnLayer()\n",
      "arnn = ArnnLayer()\n",
      "lstm = LstmLayer()\n",
      "lstm97 = Lstm97Layer()\n",
      "\n",
      "rev = ReverseLayer()\n",
      "noop = NoOpLayer()\n",
      "\n"
     ],
     "language": "python",
     "metadata": {},
     "outputs": [],
     "prompt_number": 9
    },
    {
     "cell_type": "markdown",
     "metadata": {},
     "source": [
      "## Layer Construction Parameters\n",
      "You can pass some parameters to layer construction. They will show up in the architecture as kwargs. The activation function is a very important parameter and can be used with most layer types (save InputLayer, ReverseLayer, NoOpLayer)."
     ]
    },
    {
     "cell_type": "code",
     "collapsed": false,
     "input": [
      "net = build_net(InputLayer(3) >> ForwardLayer(3, act_func='softmax'))\n",
      "net.architecture"
     ],
     "language": "python",
     "metadata": {},
     "outputs": [
      {
       "metadata": {},
       "output_type": "pyout",
       "prompt_number": 10,
       "text": [
        "[{u'name': u'InputLayer',\n",
        "  u'size': 3,\n",
        "  u'targets': [u'ForwardLayer'],\n",
        "  u'type': u'InputLayer'},\n",
        " {u'kwargs': {'act_func': 'softmax'},\n",
        "  u'name': u'ForwardLayer',\n",
        "  u'size': 3,\n",
        "  u'targets': [],\n",
        "  u'type': u'ForwardLayer'}]"
       ]
      }
     ],
     "prompt_number": 10
    },
    {
     "cell_type": "markdown",
     "metadata": {},
     "source": [
      "So lets see some more exotic ones. The following parameters are special to the corresponding layer type:"
     ]
    },
    {
     "cell_type": "code",
     "collapsed": false,
     "input": [
      "fl = ForwardLayer(3, use_bias=False) # don't use biases\n",
      "\n",
      "lstm = LstmLayer(4, delta_range=1.0) # clip the unit activation deltas to the range [-1.0, 1.0] \n",
      "\n",
      "lstm97 = Lstm97Layer(5, \n",
      "                     full_gradient=False,         # Use truncated gradient\n",
      "                     peephole_connections=False,  # don't use peephole connections\n",
      "                     forget_gate=False,           # don't include a forget gate\n",
      "                     output_gate=False,           # don't include an output gate\n",
      "                     gate_recurrence=True,        # have recurrent connections among the gates\n",
      "                     use_bias=True)               # use biases for all units\n"
     ],
     "language": "python",
     "metadata": {},
     "outputs": [],
     "prompt_number": 11
    },
    {
     "cell_type": "markdown",
     "metadata": {},
     "source": [
      "# Initialization\n"
     ]
    },
    {
     "cell_type": "code",
     "collapsed": false,
     "input": [
      "net = build_net(InputLayer(2) >> RnnLayer(3) >> ForwardLayer(4, name='OutputLayer')) "
     ],
     "language": "python",
     "metadata": {},
     "outputs": [],
     "prompt_number": 12
    },
    {
     "cell_type": "markdown",
     "metadata": {},
     "source": [
      "The weights of a network are stored in it's param_buffer. But be careful: The param buffer needs to be initialized!"
     ]
    },
    {
     "cell_type": "code",
     "collapsed": false,
     "input": [
      "# net.param_buffer   < this will fail\n",
      "net.initialize()\n",
      "net.param_buffer"
     ],
     "language": "python",
     "metadata": {},
     "outputs": [
      {
       "metadata": {},
       "output_type": "pyout",
       "prompt_number": 13,
       "text": [
        "array([ 0.,  0.,  0.,  0.,  0.,  0.,  0.,  0.,  0.,  0.,  0.,  0.,  0.,\n",
        "        0.,  0.,  0.,  0.,  0.,  0.,  0.,  0.,  0.,  0.,  0.,  0.,  0.,\n",
        "        0.,  0.,  0.,  0.,  0.,  0.,  0.,  0.])"
       ]
      }
     ],
     "prompt_number": 13
    },
    {
     "cell_type": "markdown",
     "metadata": {},
     "source": [
      "## initialize()\n",
      "This param_buffer can be assigned by hand, but that is not recommended. For initialization the easiest way is to use the initialize method:"
     ]
    },
    {
     "cell_type": "code",
     "collapsed": false,
     "input": [
      "net.initialize(Uniform(low=-0.2, high=0.2))\n",
      "# net.initialize(default=Uniform(low=-0.2, high=0.2))      # equivalent\n",
      "# net.initialize({'default':Uniform(low=-0.2, high=0.2)})  # equivalent\n",
      "\n",
      "net.param_buffer"
     ],
     "language": "python",
     "metadata": {},
     "outputs": [
      {
       "metadata": {},
       "output_type": "pyout",
       "prompt_number": 14,
       "text": [
        "array([-0.11399404, -0.12487106, -0.09012444, -0.16616068,  0.01220742,\n",
        "        0.02886931,  0.07015201, -0.0617962 ,  0.13164715, -0.03277305,\n",
        "        0.13975788,  0.11426   , -0.17392588,  0.14564385, -0.19540392,\n",
        "        0.14199782, -0.04294049, -0.02461993, -0.06136154, -0.07176756,\n",
        "       -0.17708515,  0.01658242, -0.1424116 , -0.13928887, -0.06541359,\n",
        "       -0.17048752,  0.03148222, -0.15438168,  0.04248563, -0.10433256,\n",
        "       -0.00073852, -0.16092605, -0.082943  ,  0.17993488])"
       ]
      }
     ],
     "prompt_number": 14
    },
    {
     "cell_type": "markdown",
     "metadata": {},
     "source": [
      "This will also give you easy access to the weights  that belong to the different layers:"
     ]
    },
    {
     "cell_type": "code",
     "collapsed": false,
     "input": [
      "net.initialize(default=0, OutputLayer=1, RnnLayer=2)\n",
      "net.param_buffer"
     ],
     "language": "python",
     "metadata": {},
     "outputs": [
      {
       "metadata": {},
       "output_type": "pyout",
       "prompt_number": 15,
       "text": [
        "array([ 2.,  2.,  2.,  2.,  2.,  2.,  2.,  2.,  2.,  2.,  2.,  2.,  2.,\n",
        "        2.,  2.,  2.,  2.,  2.,  1.,  1.,  1.,  1.,  1.,  1.,  1.,  1.,\n",
        "        1.,  1.,  1.,  1.,  1.,  1.,  1.,  1.])"
       ]
      }
     ],
     "prompt_number": 15
    },
    {
     "cell_type": "markdown",
     "metadata": {},
     "source": [
      "Or even to the different weight matrices that every layer uses:"
     ]
    },
    {
     "cell_type": "code",
     "collapsed": false,
     "input": [
      "net.initialize(default=0, \n",
      "           OutputLayer={'HX':1, 'H_bias':2}, \n",
      "           RnnLayer={'HX':3, 'HR':4, 'H_bias':5})\n",
      "net.param_buffer"
     ],
     "language": "python",
     "metadata": {},
     "outputs": [
      {
       "metadata": {},
       "output_type": "pyout",
       "prompt_number": 16,
       "text": [
        "array([ 4.,  4.,  4.,  4.,  4.,  4.,  4.,  4.,  4.,  3.,  3.,  3.,  3.,\n",
        "        3.,  3.,  5.,  5.,  5.,  1.,  1.,  1.,  1.,  1.,  1.,  1.,  1.,\n",
        "        1.,  1.,  1.,  1.,  2.,  2.,  2.,  2.])"
       ]
      }
     ],
     "prompt_number": 16
    },
    {
     "cell_type": "markdown",
     "metadata": {},
     "source": [
      "## Initialization types\n",
      "For initializing you can either use one of the initializers (Uniform, Gaussian) or anything that can be converted to a numpy array and then broadcasts to the correct shape:"
     ]
    },
    {
     "cell_type": "code",
     "collapsed": false,
     "input": [
      "net.initialize(default=0, \n",
      "           RnnLayer={'HR':Uniform(0, 1)})\n",
      "net.param_buffer  "
     ],
     "language": "python",
     "metadata": {},
     "outputs": [
      {
       "metadata": {},
       "output_type": "pyout",
       "prompt_number": 17,
       "text": [
        "array([ 0.93142046,  0.78008653,  0.02717764,  0.8222139 ,  0.22726072,\n",
        "        0.13768242,  0.63435003,  0.70827097,  0.93490892,  0.        ,\n",
        "        0.        ,  0.        ,  0.        ,  0.        ,  0.        ,\n",
        "        0.        ,  0.        ,  0.        ,  0.        ,  0.        ,\n",
        "        0.        ,  0.        ,  0.        ,  0.        ,  0.        ,\n",
        "        0.        ,  0.        ,  0.        ,  0.        ,  0.        ,\n",
        "        0.        ,  0.        ,  0.        ,  0.        ])"
       ]
      }
     ],
     "prompt_number": 17
    },
    {
     "cell_type": "code",
     "collapsed": false,
     "input": [
      "net.initialize(default=0, \n",
      "           RnnLayer={'HR':1})\n",
      "net.param_buffer     "
     ],
     "language": "python",
     "metadata": {},
     "outputs": [
      {
       "metadata": {},
       "output_type": "pyout",
       "prompt_number": 18,
       "text": [
        "array([ 1.,  1.,  1.,  1.,  1.,  1.,  1.,  1.,  1.,  0.,  0.,  0.,  0.,\n",
        "        0.,  0.,  0.,  0.,  0.,  0.,  0.,  0.,  0.,  0.,  0.,  0.,  0.,\n",
        "        0.,  0.,  0.,  0.,  0.,  0.,  0.,  0.])"
       ]
      }
     ],
     "prompt_number": 18
    },
    {
     "cell_type": "code",
     "collapsed": false,
     "input": [
      "net.initialize(default=0, \n",
      "           RnnLayer={'HR':[1, 2, 3]})\n",
      "net.param_buffer         \n",
      "    "
     ],
     "language": "python",
     "metadata": {},
     "outputs": [
      {
       "metadata": {},
       "output_type": "pyout",
       "prompt_number": 19,
       "text": [
        "array([ 1.,  2.,  3.,  1.,  2.,  3.,  1.,  2.,  3.,  0.,  0.,  0.,  0.,\n",
        "        0.,  0.,  0.,  0.,  0.,  0.,  0.,  0.,  0.,  0.,  0.,  0.,  0.,\n",
        "        0.,  0.,  0.,  0.,  0.,  0.,  0.,  0.])"
       ]
      }
     ],
     "prompt_number": 19
    },
    {
     "cell_type": "code",
     "collapsed": false,
     "input": [
      "net.initialize(default=0, \n",
      "           RnnLayer={'HR':[[1, 2, 3], [4, 5, 6], [7, 8, 9]]})\n",
      "net.param_buffer     "
     ],
     "language": "python",
     "metadata": {},
     "outputs": [
      {
       "metadata": {},
       "output_type": "pyout",
       "prompt_number": 20,
       "text": [
        "array([ 1.,  2.,  3.,  4.,  5.,  6.,  7.,  8.,  9.,  0.,  0.,  0.,  0.,\n",
        "        0.,  0.,  0.,  0.,  0.,  0.,  0.,  0.,  0.,  0.,  0.,  0.,  0.,\n",
        "        0.,  0.,  0.,  0.,  0.,  0.,  0.,  0.])"
       ]
      }
     ],
     "prompt_number": 20
    },
    {
     "cell_type": "code",
     "collapsed": false,
     "input": [
      "net.initialize(Gaussian())\n",
      "net.param_buffer"
     ],
     "language": "python",
     "metadata": {},
     "outputs": [
      {
       "metadata": {},
       "output_type": "pyout",
       "prompt_number": 21,
       "text": [
        "array([ 1.45091757, -0.94874276,  0.1406377 ,  1.33733839,  1.18989635,\n",
        "       -0.32585243, -0.26824293,  0.35245525,  0.55563119,  1.67078067,\n",
        "        0.30012   , -0.51682887, -0.32659049,  0.75385536, -0.87974656,\n",
        "        0.3276442 , -0.5629001 ,  0.85832315,  0.07629562, -0.01773887,\n",
        "       -1.11920796, -0.38515102, -0.65652002,  2.4901617 ,  0.82184512,\n",
        "        0.14655978,  0.32584934, -0.86552959, -0.62071593, -0.59278382,\n",
        "        0.91231656, -0.00652156,  1.64096284,  0.54105502])"
       ]
      }
     ],
     "prompt_number": 21
    },
    {
     "cell_type": "markdown",
     "metadata": {},
     "source": [
      "# Training"
     ]
    },
    {
     "cell_type": "code",
     "collapsed": false,
     "input": [
      "# Build and initialize a simple network\n",
      "net = build_net(InputLayer(3) >> ForwardLayer(2, act_func='sigmoid'))\n",
      "net.error_func = CrossEntropyError\n",
      "net.initialize(default=Gaussian(std=0.1))\n",
      "\n",
      "# Randomly generate a dataset\n",
      "X = np.random.randn(1, 100, 3) # nr_timesteps, nr_examples, input_size\n",
      "T = np.random.random_sample((1, 100, 2))"
     ],
     "language": "python",
     "metadata": {},
     "outputs": [],
     "prompt_number": 22
    },
    {
     "cell_type": "markdown",
     "metadata": {},
     "source": [
      "Training is done by the Trainer (suprise!). You have to specify a network when you set it up:"
     ]
    },
    {
     "cell_type": "code",
     "collapsed": false,
     "input": [
      "tr = Trainer(net)"
     ],
     "language": "python",
     "metadata": {},
     "outputs": [],
     "prompt_number": 23
    },
    {
     "cell_type": "markdown",
     "metadata": {},
     "source": [
      "## Stopping Criteria\n",
      "You need to specify a stopping criterion if you want the training to stop. Here we tell it to stop after 10 Epochs:"
     ]
    },
    {
     "cell_type": "code",
     "collapsed": false,
     "input": [
      "tr.stopping_criteria.append(MaxEpochsSeen(10))"
     ],
     "language": "python",
     "metadata": {},
     "outputs": [],
     "prompt_number": 24
    },
    {
     "cell_type": "markdown",
     "metadata": {},
     "source": [
      "Another common stopping criteria is ValidationErrorRises()"
     ]
    },
    {
     "cell_type": "code",
     "collapsed": false,
     "input": [
      "#tr.stopping_criteria.append(ValidationErrorRises())   # need to pass validation data to train() method"
     ],
     "language": "python",
     "metadata": {},
     "outputs": [],
     "prompt_number": 25
    },
    {
     "cell_type": "markdown",
     "metadata": {},
     "source": [
      "## Data-iterators\n",
      "The train() method takes a data-iterator as argument. There are 3 different data-iterators so far: Undivided, Minibatches, and Online. \n",
      "\n",
      "They specify how the dataset is split up during each epoch to do the weight-updates. So Undivided gives you Gradient Descent while Online gives you Stochastic Gradient Descent:"
     ]
    },
    {
     "cell_type": "code",
     "collapsed": true,
     "input": [
      "tr.train(Undivided(X, T, shuffle=True))\n",
      "# tr.train(Minibatches(X, T, batch_size=10))\n",
      "# tr.train(Online(X, T))"
     ],
     "language": "python",
     "metadata": {},
     "outputs": [
      {
       "output_type": "stream",
       "stream": "stdout",
       "text": [
        "\n",
        "\n",
        " - - - - - - - - - - - - - - -   Epoch  1  - - - - - - - - - - - - - - -\n",
        "Training ...\n",
        "(1, 100, 3)\n",
        "Wall Time taken:  0.00526094436646\n",
        "\n",
        "\n",
        " - - - - - - - - - - - - - - -   Epoch  2  - - - - - - - - - - - - - - -\n",
        "Training ...\n",
        "(1, 100, 3)\n",
        "Wall Time taken:  0.00036096572876\n",
        "\n",
        "\n",
        " - - - - - - - - - - - - - - -   Epoch  3  - - - - - - - - - - - - - - -\n",
        "Training ...\n",
        "(1, 100, 3)\n",
        "Wall Time taken:  0.000324010848999\n",
        "\n",
        "\n",
        " - - - - - - - - - - - - - - -   Epoch  4  - - - - - - - - - - - - - - -\n",
        "Training ...\n",
        "(1, 100, 3)\n",
        "Wall Time taken:  0.00031590461731\n",
        "\n",
        "\n",
        " - - - - - - - - - - - - - - -   Epoch  5  - - - - - - - - - - - - - - -\n",
        "Training ...\n",
        "(1, 100, 3)\n",
        "Wall Time taken:  0.00031590461731\n",
        "\n",
        "\n",
        " - - - - - - - - - - - - - - -   Epoch  6  - - - - - - - - - - - - - - -\n",
        "Training ...\n",
        "(1, 100, 3)\n",
        "Wall Time taken:  0.000313997268677\n",
        "\n",
        "\n",
        " - - - - - - - - - - - - - - -   Epoch  7  - - - - - - - - - - - - - - -\n",
        "Training ...\n",
        "(1, 100, 3)\n",
        "Wall Time taken:  0.000334024429321\n",
        "\n",
        "\n",
        " - - - - - - - - - - - - - - -   Epoch  8  - - - - - - - - - - - - - - -\n",
        "Training ...\n",
        "(1, 100, 3)\n",
        "Wall Time taken:  0.000310897827148\n",
        "\n",
        "\n",
        " - - - - - - - - - - - - - - -   Epoch  9  - - - - - - - - - - - - - - -\n",
        "Training ...\n",
        "(1, 100, 3)\n",
        "Wall Time taken:  0.000349998474121\n",
        "\n",
        "\n",
        " - - - - - - - - - - - - - - -   Epoch  10  - - - - - - - - - - - - - - -\n",
        "Training ...\n",
        "(1, 100, 3)\n",
        "Wall Time taken:  0.000308990478516\n"
       ]
      },
      {
       "metadata": {},
       "output_type": "pyout",
       "prompt_number": 26,
       "text": [
        "1.3821154367694777"
       ]
      }
     ],
     "prompt_number": 26
    },
    {
     "cell_type": "markdown",
     "metadata": {},
     "source": [
      "The data-iterators can optionally also work with a Mask, but that is only important for sequences."
     ]
    },
    {
     "cell_type": "markdown",
     "metadata": {},
     "source": [
      "## Steps\n",
      "The trainer can be configured to perform other operations than Gradient Descent by passing in a Step Object during initialization:"
     ]
    },
    {
     "cell_type": "code",
     "collapsed": false,
     "input": [
      "tr = Trainer(net, SgdStep(learning_rate=0.2))  # (Stochastic) Gradient Descent\n",
      "tr = Trainer(net, MomentumStep(learning_rate=0.1, momentum=0.9)) # SGD with momentum\n",
      "tr = Trainer(net, NesterovStep(learning_rate=0.1, momentum=0.9)) # Nesterovs variant of momentum\n",
      "tr = Trainer(net, RPropStep()) # RProp (untested)\n",
      "\n",
      "# two special steps exist that you probably won't need\n",
      "tr = Trainer(net, DiagnosticStep()) # Don't train just print debugging info\n",
      "tr = Trainer(net, ForwardStep()) # Don't train, just run a forward pass\n",
      "            "
     ],
     "language": "python",
     "metadata": {},
     "outputs": [],
     "prompt_number": 32
    },
    {
     "cell_type": "markdown",
     "metadata": {},
     "source": [
      "## Callbacks\n",
      "To have the trainer perform certain operations after each epoch you can specify callback functions like this:"
     ]
    },
    {
     "cell_type": "code",
     "collapsed": false,
     "input": [
      "tr.callbacks.append(print_error_per_epoch)     # This function is added by default, so don't worry about it\n",
      "tr.callbacks.append(SaveWeightsPerEpoch(\"weights.npy\"))  # This will save the weights of your net after each epoch\n",
      "tr.callbacks.append(SaveBestWeights(\"best_weights.npy\")) # This will only save the weights if the error decreased"
     ],
     "language": "python",
     "metadata": {},
     "outputs": [
      {
       "ename": "AttributeError",
       "evalue": "'Trainer' object has no attribute 'callbacks'",
       "output_type": "pyerr",
       "traceback": [
        "\u001b[1;31m---------------------------------------------------------------------------\u001b[0m\n\u001b[1;31mAttributeError\u001b[0m                            Traceback (most recent call last)",
        "\u001b[1;32m<ipython-input-33-e0296db82a1f>\u001b[0m in \u001b[0;36m<module>\u001b[1;34m()\u001b[0m\n\u001b[1;32m----> 1\u001b[1;33m \u001b[0mtr\u001b[0m\u001b[1;33m.\u001b[0m\u001b[0mcallbacks\u001b[0m\u001b[1;33m.\u001b[0m\u001b[0mappend\u001b[0m\u001b[1;33m(\u001b[0m\u001b[0mprint_error_per_epoch\u001b[0m\u001b[1;33m)\u001b[0m     \u001b[1;31m# This function is added by default, so don't worry about it\u001b[0m\u001b[1;33m\u001b[0m\u001b[0m\n\u001b[0m\u001b[0;32m      2\u001b[0m \u001b[0mtr\u001b[0m\u001b[1;33m.\u001b[0m\u001b[0mcallbacks\u001b[0m\u001b[1;33m.\u001b[0m\u001b[0mappend\u001b[0m\u001b[1;33m(\u001b[0m\u001b[0mSaveWeightsPerEpoch\u001b[0m\u001b[1;33m(\u001b[0m\u001b[1;34m\"weights.npy\"\u001b[0m\u001b[1;33m)\u001b[0m\u001b[1;33m)\u001b[0m  \u001b[1;31m# This will save the weights of your net after each epoch\u001b[0m\u001b[1;33m\u001b[0m\u001b[0m\n\u001b[0;32m      3\u001b[0m \u001b[0mtr\u001b[0m\u001b[1;33m.\u001b[0m\u001b[0mcallbacks\u001b[0m\u001b[1;33m.\u001b[0m\u001b[0mappend\u001b[0m\u001b[1;33m(\u001b[0m\u001b[0mSaveBestWeights\u001b[0m\u001b[1;33m(\u001b[0m\u001b[1;34m\"best_weights.npy\"\u001b[0m\u001b[1;33m)\u001b[0m\u001b[1;33m)\u001b[0m \u001b[1;31m# This will only save the weights if the error decreased\u001b[0m\u001b[1;33m\u001b[0m\u001b[0m\n",
        "\u001b[1;31mAttributeError\u001b[0m: 'Trainer' object has no attribute 'callbacks'"
       ]
      }
     ],
     "prompt_number": 33
    },
    {
     "cell_type": "markdown",
     "metadata": {},
     "source": [
      "These are the builtin callbacks but you can easily define your own. The callback has to be callable and take the following arguments:\n",
      "\n",
      "- epoch: the current epoch number\n",
      "- net: the network\n",
      "- training_errors: a list of all training errors so far\n",
      "- validation_errors: a list of all validation errors so far (if any)"
     ]
    },
    {
     "cell_type": "code",
     "collapsed": false,
     "input": [
      "# Custom callback as Function:\n",
      "def custom_callback_func(epoch, net, training_error, validation_error):\n",
      "    print('Puh, epoch %d was hard!'%epoch)\n",
      "    \n",
      "tr.callbacks.append(custom_callback_func)\n"
     ],
     "language": "python",
     "metadata": {},
     "outputs": []
    },
    {
     "cell_type": "code",
     "collapsed": false,
     "input": [
      "# Custom callback as Class:\n",
      "class CustomCallback(object):\n",
      "    def __init__(self, message):\n",
      "        self.message = message\n",
      "    \n",
      "    def __call__(self, epoch, net, training_error, validation_error):\n",
      "        print(self.message)\n",
      "        \n",
      "tr.callbacks.append(CustomCallback('Hello World!'))"
     ],
     "language": "python",
     "metadata": {},
     "outputs": []
    }
   ],
   "metadata": {}
  }
 ]
}