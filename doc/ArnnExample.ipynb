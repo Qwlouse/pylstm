{
 "metadata": {
  "name": ""
 },
 "nbformat": 3,
 "nbformat_minor": 0,
 "worksheets": [
  {
   "cells": [
    {
     "cell_type": "markdown",
     "metadata": {},
     "source": [
      "# ARNN Example\n",
      "Setting up an ArnnLayer is a little involved because you need to set up the timings for the nodes and possibly even mask out the lower triangle of the recurrent matrix. So lets see how that works:"
     ]
    },
    {
     "cell_type": "code",
     "collapsed": false,
     "input": [
      "from pylstm import *"
     ],
     "language": "python",
     "metadata": {},
     "outputs": []
    },
    {
     "cell_type": "code",
     "collapsed": false,
     "input": [
      "# Suppose we want to have those periods for the 12 neurons:\n",
      "periods = [1, 1, 1, 2, 2, 2, 5, 5, 5, 11, 11, 11]  \n",
      "\n",
      "# you can edit those periods freely as long as you only use \n",
      "# integers and they are sorted"
     ],
     "language": "python",
     "metadata": {},
     "outputs": []
    },
    {
     "cell_type": "markdown",
     "metadata": {},
     "source": [
      "First we set up and initialize the network with the ArnnLayer\n"
     ]
    },
    {
     "cell_type": "code",
     "collapsed": false,
     "input": [
      "# 1. Set up a network with an ArnnLayer\n",
      "net = build_net(InputLayer(5) >> ArnnLayer(len(periods)) >> ForwardLayer(3))"
     ],
     "language": "python",
     "metadata": {},
     "outputs": []
    },
    {
     "cell_type": "code",
     "collapsed": false,
     "input": [
      "# 2. Initialize\n",
      "net.initialize(default=Gaussian(std=0.1),\n",
      "               ArnnLayer={'Timing':periods})  # here we set the timings\n",
      "# you can add other initializations as you wish"
     ],
     "language": "python",
     "metadata": {},
     "outputs": []
    },
    {
     "cell_type": "markdown",
     "metadata": {},
     "source": [
      "But now suppose we also want the Recurrent Matrix to look like this, such that \n",
      "neurons receive only input from units with lower frequencies:\n",
      "\n",
      "\n",
      "    # # # 0 0 0 0 0 0 0 0 0\n",
      "    # # # 0 0 0 0 0 0 0 0 0\n",
      "    # # # 0 0 0 0 0 0 0 0 0\n",
      "    # # # # # # 0 0 0 0 0 0\n",
      "    # # # # # # 0 0 0 0 0 0\n",
      "    # # # # # # 0 0 0 0 0 0\n",
      "    # # # # # # # # # 0 0 0\n",
      "    # # # # # # # # # 0 0 0\n",
      "    # # # # # # # # # 0 0 0\n",
      "    # # # # # # # # # # # #\n",
      "    # # # # # # # # # # # #\n",
      "    # # # # # # # # # # # #\n",
      "    \n",
      "To achieve this we need to set up a constraint on the recurrent weights to force them to this shape.\n",
      "\n",
      "We can do this with a Mask (matrix with only 0s and 1s). So lets construct that matrix first:"
     ]
    },
    {
     "cell_type": "code",
     "collapsed": false,
     "input": [
      "# This method will construct a mask such as shown above from a list of periods\n",
      "# You do not have to understand the magic, just use it.. :)\n",
      "def construct_period_mask(periods):\n",
      "    unique_ps = sorted(set(periods))\n",
      "    D = np.zeros((len(periods), len(periods)), dtype=np.float64)\n",
      "    offset = 0\n",
      "    for p in unique_ps:\n",
      "        group_size = periods.count(p)\n",
      "        D[offset:, offset:offset + group_size] = 1.0\n",
      "        offset += group_size\n",
      "    return D"
     ],
     "language": "python",
     "metadata": {},
     "outputs": []
    },
    {
     "cell_type": "code",
     "collapsed": false,
     "input": [
      "net.set_constraints(ArnnLayer={'HR':MaskWeights(construct_period_mask(periods))})"
     ],
     "language": "python",
     "metadata": {},
     "outputs": []
    },
    {
     "cell_type": "markdown",
     "metadata": {},
     "source": [
      "That was it. Now it can be trained just as usual."
     ]
    }
   ],
   "metadata": {}
  }
 ]
}